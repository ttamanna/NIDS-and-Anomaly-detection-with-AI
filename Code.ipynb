{
 "cells": [
  {
   "cell_type": "markdown",
   "metadata": {},
   "source": [
    "# Network Intrusion Detection"
   ]
  },
  {
   "cell_type": "markdown",
   "metadata": {},
   "source": [
    "## Detection Method impletenting on Network Intrusion Detection System Dataset"
   ]
  },
  {
   "cell_type": "markdown",
   "metadata": {},
   "source": [
    "## Importing libraries:"
   ]
  },
  {
   "cell_type": "code",
   "execution_count": 1,
   "metadata": {},
   "outputs": [],
   "source": [
    "import numpy as np  # for array\n",
    "import pandas as pd  # for csv files and dataframe\n",
    "import matplotlib.pyplot as plt  # for plotting\n",
    "import seaborn as sns  # plotting\n",
    "import time\n",
    "from scipy import stats\n",
    "\n",
    "import warnings\n",
    "warnings.filterwarnings(\"ignore\")\n",
    "\n",
    "from sklearn import metrics\n",
    "\n",
    "from sklearn.preprocessing import StandardScaler\n",
    "from sklearn.preprocessing import LabelEncoder, OneHotEncoder\n",
    "\n",
    "from sklearn.model_selection import train_test_split\n",
    "from sklearn.linear_model import LogisticRegression, SGDClassifier\n",
    "from sklearn.tree import DecisionTreeClassifier\n",
    "from sklearn.ensemble import RandomForestClassifier\n",
    "from sklearn.ensemble import IsolationForest\n",
    "from sklearn.neighbors import LocalOutlierFactor\n",
    "\n",
    "from sklearn.metrics import accuracy_score, confusion_matrix, make_scorer\n",
    "from sklearn.metrics import auc, f1_score, roc_curve\n",
    "from sklearn.metrics import roc_auc_score\n",
    "from sklearn.model_selection import GridSearchCV, RandomizedSearchCV\n",
    "from sklearn.model_selection import cross_validate, cross_val_predict\n",
    "\n",
    "%matplotlib inline\n",
    "from sklearn.preprocessing import MinMaxScaler\n",
    "from sklearn.linear_model import *\n",
    "from sklearn.tree import *\n",
    "from sklearn.naive_bayes import *\n",
    "from sklearn.neighbors import *"
   ]
  },
  {
   "cell_type": "markdown",
   "metadata": {},
   "source": [
    "## Data Creation:"
   ]
  },
  {
   "cell_type": "markdown",
   "metadata": {},
   "source": [
    "4 datasets containing information and 1 dataset for features were downloaded from the website: 'https://research.unsw.edu.au/projects/unsw-nb15-dataset'. The separate datasets were merged into one dataset to work with. The file containing feature names were merged as column names."
   ]
  },
  {
   "cell_type": "code",
   "execution_count": 2,
   "metadata": {},
   "outputs": [],
   "source": [
    "#Creating a dictionary to save useful info\n",
    "saved_dict = {}"
   ]
  },
  {
   "cell_type": "code",
   "execution_count": 3,
   "metadata": {},
   "outputs": [],
   "source": [
    "# Reading datasets\n",
    "dfs = []\n",
    "for i in range(1,5):\n",
    "    path = './UNSW-NB15_{}.csv'  # There are 4 input csv files\n",
    "    dfs.append(pd.read_csv(path.format(i), header = None))\n",
    "dataset = pd.concat(dfs).reset_index(drop=True)  # Concat all to a single df"
   ]
  },
  {
   "cell_type": "code",
   "execution_count": 4,
   "metadata": {},
   "outputs": [],
   "source": [
    "#This csv file contains names of all the features\n",
    "df_col = pd.read_csv('./NUSW-NB15_features.csv', encoding='ISO-8859-1')"
   ]
  },
  {
   "cell_type": "code",
   "execution_count": 5,
   "metadata": {},
   "outputs": [],
   "source": [
    "#Making column names lower case, removing spaces\n",
    "df_col['Name'] = df_col['Name'].apply(lambda x: x.strip().replace(' ', '').lower())"
   ]
  },
  {
   "cell_type": "code",
   "execution_count": 6,
   "metadata": {},
   "outputs": [],
   "source": [
    "# Renaming the dataset with proper column names\n",
    "dataset.columns = df_col['Name']"
   ]
  },
  {
   "cell_type": "code",
   "execution_count": 7,
   "metadata": {},
   "outputs": [],
   "source": [
    "# Saving useful info\n",
    "saved_dict['columns'] = df_col['Name'][df_col['Name']!='label'].tolist()"
   ]
  },
  {
   "cell_type": "code",
   "execution_count": 8,
   "metadata": {},
   "outputs": [],
   "source": [
    "del df_col"
   ]
  },
  {
   "cell_type": "code",
   "execution_count": 9,
   "metadata": {},
   "outputs": [],
   "source": [
    "#creating a csv file\n",
    "dataset.to_csv('./dataset1.csv', index=False)\n"
   ]
  },
  {
   "cell_type": "markdown",
   "metadata": {},
   "source": [
    "## Data Preprocessing:"
   ]
  },
  {
   "cell_type": "code",
   "execution_count": 3,
   "metadata": {},
   "outputs": [],
   "source": [
    "dataset1 = pd.read_csv('./dataset1.csv')"
   ]
  },
  {
   "cell_type": "code",
   "execution_count": 4,
   "metadata": {},
   "outputs": [
    {
     "data": {
      "text/plain": [
       "(2540047, 49)"
      ]
     },
     "execution_count": 4,
     "metadata": {},
     "output_type": "execute_result"
    }
   ],
   "source": [
    "dataset1.shape"
   ]
  },
  {
   "cell_type": "code",
   "execution_count": 5,
   "metadata": {},
   "outputs": [
    {
     "data": {
      "text/html": [
       "<div>\n",
       "<style scoped>\n",
       "    .dataframe tbody tr th:only-of-type {\n",
       "        vertical-align: middle;\n",
       "    }\n",
       "\n",
       "    .dataframe tbody tr th {\n",
       "        vertical-align: top;\n",
       "    }\n",
       "\n",
       "    .dataframe thead th {\n",
       "        text-align: right;\n",
       "    }\n",
       "</style>\n",
       "<table border=\"1\" class=\"dataframe\">\n",
       "  <thead>\n",
       "    <tr style=\"text-align: right;\">\n",
       "      <th></th>\n",
       "      <th>srcip</th>\n",
       "      <th>sport</th>\n",
       "      <th>dstip</th>\n",
       "      <th>dsport</th>\n",
       "      <th>proto</th>\n",
       "      <th>state</th>\n",
       "      <th>dur</th>\n",
       "      <th>sbytes</th>\n",
       "      <th>dbytes</th>\n",
       "      <th>sttl</th>\n",
       "      <th>...</th>\n",
       "      <th>ct_ftp_cmd</th>\n",
       "      <th>ct_srv_src</th>\n",
       "      <th>ct_srv_dst</th>\n",
       "      <th>ct_dst_ltm</th>\n",
       "      <th>ct_src_ltm</th>\n",
       "      <th>ct_src_dport_ltm</th>\n",
       "      <th>ct_dst_sport_ltm</th>\n",
       "      <th>ct_dst_src_ltm</th>\n",
       "      <th>attack_cat</th>\n",
       "      <th>label</th>\n",
       "    </tr>\n",
       "  </thead>\n",
       "  <tbody>\n",
       "    <tr>\n",
       "      <th>0</th>\n",
       "      <td>59.166.0.0</td>\n",
       "      <td>1390</td>\n",
       "      <td>149.171.126.6</td>\n",
       "      <td>53</td>\n",
       "      <td>udp</td>\n",
       "      <td>CON</td>\n",
       "      <td>0.001055</td>\n",
       "      <td>132</td>\n",
       "      <td>164</td>\n",
       "      <td>31</td>\n",
       "      <td>...</td>\n",
       "      <td>0</td>\n",
       "      <td>3</td>\n",
       "      <td>7</td>\n",
       "      <td>1</td>\n",
       "      <td>3</td>\n",
       "      <td>1</td>\n",
       "      <td>1</td>\n",
       "      <td>1</td>\n",
       "      <td>NaN</td>\n",
       "      <td>0</td>\n",
       "    </tr>\n",
       "    <tr>\n",
       "      <th>1</th>\n",
       "      <td>59.166.0.0</td>\n",
       "      <td>33661</td>\n",
       "      <td>149.171.126.9</td>\n",
       "      <td>1024</td>\n",
       "      <td>udp</td>\n",
       "      <td>CON</td>\n",
       "      <td>0.036133</td>\n",
       "      <td>528</td>\n",
       "      <td>304</td>\n",
       "      <td>31</td>\n",
       "      <td>...</td>\n",
       "      <td>0</td>\n",
       "      <td>2</td>\n",
       "      <td>4</td>\n",
       "      <td>2</td>\n",
       "      <td>3</td>\n",
       "      <td>1</td>\n",
       "      <td>1</td>\n",
       "      <td>2</td>\n",
       "      <td>NaN</td>\n",
       "      <td>0</td>\n",
       "    </tr>\n",
       "    <tr>\n",
       "      <th>2</th>\n",
       "      <td>59.166.0.6</td>\n",
       "      <td>1464</td>\n",
       "      <td>149.171.126.7</td>\n",
       "      <td>53</td>\n",
       "      <td>udp</td>\n",
       "      <td>CON</td>\n",
       "      <td>0.001119</td>\n",
       "      <td>146</td>\n",
       "      <td>178</td>\n",
       "      <td>31</td>\n",
       "      <td>...</td>\n",
       "      <td>0</td>\n",
       "      <td>12</td>\n",
       "      <td>8</td>\n",
       "      <td>1</td>\n",
       "      <td>2</td>\n",
       "      <td>2</td>\n",
       "      <td>1</td>\n",
       "      <td>1</td>\n",
       "      <td>NaN</td>\n",
       "      <td>0</td>\n",
       "    </tr>\n",
       "    <tr>\n",
       "      <th>3</th>\n",
       "      <td>59.166.0.5</td>\n",
       "      <td>3593</td>\n",
       "      <td>149.171.126.5</td>\n",
       "      <td>53</td>\n",
       "      <td>udp</td>\n",
       "      <td>CON</td>\n",
       "      <td>0.001209</td>\n",
       "      <td>132</td>\n",
       "      <td>164</td>\n",
       "      <td>31</td>\n",
       "      <td>...</td>\n",
       "      <td>0</td>\n",
       "      <td>6</td>\n",
       "      <td>9</td>\n",
       "      <td>1</td>\n",
       "      <td>1</td>\n",
       "      <td>1</td>\n",
       "      <td>1</td>\n",
       "      <td>1</td>\n",
       "      <td>NaN</td>\n",
       "      <td>0</td>\n",
       "    </tr>\n",
       "    <tr>\n",
       "      <th>4</th>\n",
       "      <td>59.166.0.3</td>\n",
       "      <td>49664</td>\n",
       "      <td>149.171.126.0</td>\n",
       "      <td>53</td>\n",
       "      <td>udp</td>\n",
       "      <td>CON</td>\n",
       "      <td>0.001169</td>\n",
       "      <td>146</td>\n",
       "      <td>178</td>\n",
       "      <td>31</td>\n",
       "      <td>...</td>\n",
       "      <td>0</td>\n",
       "      <td>7</td>\n",
       "      <td>9</td>\n",
       "      <td>1</td>\n",
       "      <td>1</td>\n",
       "      <td>1</td>\n",
       "      <td>1</td>\n",
       "      <td>1</td>\n",
       "      <td>NaN</td>\n",
       "      <td>0</td>\n",
       "    </tr>\n",
       "  </tbody>\n",
       "</table>\n",
       "<p>5 rows × 49 columns</p>\n",
       "</div>"
      ],
      "text/plain": [
       "        srcip  sport          dstip dsport proto state       dur  sbytes  \\\n",
       "0  59.166.0.0   1390  149.171.126.6     53   udp   CON  0.001055     132   \n",
       "1  59.166.0.0  33661  149.171.126.9   1024   udp   CON  0.036133     528   \n",
       "2  59.166.0.6   1464  149.171.126.7     53   udp   CON  0.001119     146   \n",
       "3  59.166.0.5   3593  149.171.126.5     53   udp   CON  0.001209     132   \n",
       "4  59.166.0.3  49664  149.171.126.0     53   udp   CON  0.001169     146   \n",
       "\n",
       "   dbytes  sttl  ...  ct_ftp_cmd  ct_srv_src  ct_srv_dst ct_dst_ltm  \\\n",
       "0     164    31  ...           0           3           7          1   \n",
       "1     304    31  ...           0           2           4          2   \n",
       "2     178    31  ...           0          12           8          1   \n",
       "3     164    31  ...           0           6           9          1   \n",
       "4     178    31  ...           0           7           9          1   \n",
       "\n",
       "   ct_src_ltm  ct_src_dport_ltm  ct_dst_sport_ltm  ct_dst_src_ltm  attack_cat  \\\n",
       "0           3                 1                 1               1         NaN   \n",
       "1           3                 1                 1               2         NaN   \n",
       "2           2                 2                 1               1         NaN   \n",
       "3           1                 1                 1               1         NaN   \n",
       "4           1                 1                 1               1         NaN   \n",
       "\n",
       "   label  \n",
       "0      0  \n",
       "1      0  \n",
       "2      0  \n",
       "3      0  \n",
       "4      0  \n",
       "\n",
       "[5 rows x 49 columns]"
      ]
     },
     "execution_count": 5,
     "metadata": {},
     "output_type": "execute_result"
    }
   ],
   "source": [
    "dataset1.head()"
   ]
  },
  {
   "cell_type": "code",
   "execution_count": 6,
   "metadata": {},
   "outputs": [
    {
     "data": {
      "text/plain": [
       "srcip                     0\n",
       "sport                     0\n",
       "dstip                     0\n",
       "dsport                    0\n",
       "proto                     0\n",
       "state                     0\n",
       "dur                       0\n",
       "sbytes                    0\n",
       "dbytes                    0\n",
       "sttl                      0\n",
       "dttl                      0\n",
       "sloss                     0\n",
       "dloss                     0\n",
       "service                   0\n",
       "sload                     0\n",
       "dload                     0\n",
       "spkts                     0\n",
       "dpkts                     0\n",
       "swin                      0\n",
       "dwin                      0\n",
       "stcpb                     0\n",
       "dtcpb                     0\n",
       "smeansz                   0\n",
       "dmeansz                   0\n",
       "trans_depth               0\n",
       "res_bdy_len               0\n",
       "sjit                      0\n",
       "djit                      0\n",
       "stime                     0\n",
       "ltime                     0\n",
       "sintpkt                   0\n",
       "dintpkt                   0\n",
       "tcprtt                    0\n",
       "synack                    0\n",
       "ackdat                    0\n",
       "is_sm_ips_ports           0\n",
       "ct_state_ttl              0\n",
       "ct_flw_http_mthd    1348145\n",
       "is_ftp_login        1429879\n",
       "ct_ftp_cmd                0\n",
       "ct_srv_src                0\n",
       "ct_srv_dst                0\n",
       "ct_dst_ltm                0\n",
       "ct_src_ltm                0\n",
       "ct_src_dport_ltm          0\n",
       "ct_dst_sport_ltm          0\n",
       "ct_dst_src_ltm            0\n",
       "attack_cat          2218764\n",
       "label                     0\n",
       "dtype: int64"
      ]
     },
     "execution_count": 6,
     "metadata": {},
     "output_type": "execute_result"
    }
   ],
   "source": [
    "#Checking null values\n",
    "dataset1.isnull().sum()"
   ]
  },
  {
   "cell_type": "markdown",
   "metadata": {},
   "source": [
    "The values for the columns 'ct_flw_http_mthd', 'is_ftp_login' and 'attack_cat' show null values. Thus, they need to be further processed."
   ]
  },
  {
   "cell_type": "code",
   "execution_count": 7,
   "metadata": {},
   "outputs": [],
   "source": [
    "dataset1['ct_flw_http_mthd'] = dataset1.ct_flw_http_mthd.fillna(value=0)"
   ]
  },
  {
   "cell_type": "code",
   "execution_count": 8,
   "metadata": {},
   "outputs": [
    {
     "data": {
      "text/plain": [
       "0.0    1066593\n",
       "1.0      43389\n",
       "4.0        156\n",
       "2.0         30\n",
       "Name: is_ftp_login, dtype: int64"
      ]
     },
     "execution_count": 8,
     "metadata": {},
     "output_type": "execute_result"
    }
   ],
   "source": [
    "# Even though it's a binary column, but there're values like 2 and 4\n",
    "dataset1['is_ftp_login'].value_counts()"
   ]
  },
  {
   "cell_type": "code",
   "execution_count": 9,
   "metadata": {},
   "outputs": [],
   "source": [
    "dataset1['is_ftp_login'] = (dataset1.is_ftp_login.fillna(value=0)).astype(int)"
   ]
  },
  {
   "cell_type": "code",
   "execution_count": 10,
   "metadata": {},
   "outputs": [
    {
     "data": {
      "text/plain": [
       "Generic             215481\n",
       "Exploits             44525\n",
       " Fuzzers             19195\n",
       "DoS                  16353\n",
       " Reconnaissance      12228\n",
       " Fuzzers              5051\n",
       "Analysis              2677\n",
       "Backdoor              1795\n",
       "Reconnaissance        1759\n",
       " Shellcode            1288\n",
       "Backdoors              534\n",
       "Shellcode              223\n",
       "Worms                  174\n",
       "Name: attack_cat, dtype: int64"
      ]
     },
     "execution_count": 10,
     "metadata": {},
     "output_type": "execute_result"
    }
   ],
   "source": [
    "dataset1['attack_cat'].value_counts()"
   ]
  },
  {
   "cell_type": "code",
   "execution_count": 11,
   "metadata": {},
   "outputs": [],
   "source": [
    "# filling null values with \"normal\"\n",
    "dataset1['attack_cat'] = dataset1.attack_cat.fillna(value='normal').apply(lambda x: x.strip().lower())"
   ]
  },
  {
   "cell_type": "code",
   "execution_count": 12,
   "metadata": {},
   "outputs": [
    {
     "data": {
      "text/plain": [
       "normal            2218764\n",
       "generic            215481\n",
       "exploits            44525\n",
       "fuzzers             24246\n",
       "dos                 16353\n",
       "reconnaissance      13987\n",
       "analysis             2677\n",
       "backdoor             1795\n",
       "shellcode            1511\n",
       "backdoors             534\n",
       "worms                 174\n",
       "Name: attack_cat, dtype: int64"
      ]
     },
     "execution_count": 12,
     "metadata": {},
     "output_type": "execute_result"
    }
   ],
   "source": [
    "dataset1['attack_cat'].value_counts()"
   ]
  },
  {
   "cell_type": "code",
   "execution_count": 13,
   "metadata": {},
   "outputs": [
    {
     "data": {
      "text/plain": [
       "0"
      ]
     },
     "execution_count": 13,
     "metadata": {},
     "output_type": "execute_result"
    }
   ],
   "source": [
    "# Checking if there are any more no Null values in the dataset \n",
    "dataset1.isnull().sum().sum()"
   ]
  },
  {
   "cell_type": "code",
   "execution_count": 14,
   "metadata": {},
   "outputs": [
    {
     "data": {
      "text/plain": [
       "Index(['srcip', 'sport', 'dstip', 'dsport', 'proto', 'state', 'dur', 'sbytes',\n",
       "       'dbytes', 'sttl', 'dttl', 'sloss', 'dloss', 'service', 'sload', 'dload',\n",
       "       'spkts', 'dpkts', 'swin', 'dwin', 'stcpb', 'dtcpb', 'smeansz',\n",
       "       'dmeansz', 'trans_depth', 'res_bdy_len', 'sjit', 'djit', 'stime',\n",
       "       'ltime', 'sintpkt', 'dintpkt', 'tcprtt', 'synack', 'ackdat',\n",
       "       'is_sm_ips_ports', 'ct_state_ttl', 'ct_flw_http_mthd', 'is_ftp_login',\n",
       "       'ct_ftp_cmd', 'ct_srv_src', 'ct_srv_dst', 'ct_dst_ltm', 'ct_src_ltm',\n",
       "       'ct_src_dport_ltm', 'ct_dst_sport_ltm', 'ct_dst_src_ltm', 'attack_cat',\n",
       "       'label'],\n",
       "      dtype='object')"
      ]
     },
     "execution_count": 14,
     "metadata": {},
     "output_type": "execute_result"
    }
   ],
   "source": [
    "# Getting name of all the columns\n",
    "dataset1.columns"
   ]
  },
  {
   "cell_type": "code",
   "execution_count": 15,
   "metadata": {},
   "outputs": [
    {
     "name": "stdout",
     "output_type": "stream",
     "text": [
      "<class 'pandas.core.frame.DataFrame'>\n",
      "RangeIndex: 2540047 entries, 0 to 2540046\n",
      "Data columns (total 49 columns):\n",
      " #   Column            Dtype  \n",
      "---  ------            -----  \n",
      " 0   srcip             object \n",
      " 1   sport             object \n",
      " 2   dstip             object \n",
      " 3   dsport            object \n",
      " 4   proto             object \n",
      " 5   state             object \n",
      " 6   dur               float64\n",
      " 7   sbytes            int64  \n",
      " 8   dbytes            int64  \n",
      " 9   sttl              int64  \n",
      " 10  dttl              int64  \n",
      " 11  sloss             int64  \n",
      " 12  dloss             int64  \n",
      " 13  service           object \n",
      " 14  sload             float64\n",
      " 15  dload             float64\n",
      " 16  spkts             int64  \n",
      " 17  dpkts             int64  \n",
      " 18  swin              int64  \n",
      " 19  dwin              int64  \n",
      " 20  stcpb             int64  \n",
      " 21  dtcpb             int64  \n",
      " 22  smeansz           int64  \n",
      " 23  dmeansz           int64  \n",
      " 24  trans_depth       int64  \n",
      " 25  res_bdy_len       int64  \n",
      " 26  sjit              float64\n",
      " 27  djit              float64\n",
      " 28  stime             int64  \n",
      " 29  ltime             int64  \n",
      " 30  sintpkt           float64\n",
      " 31  dintpkt           float64\n",
      " 32  tcprtt            float64\n",
      " 33  synack            float64\n",
      " 34  ackdat            float64\n",
      " 35  is_sm_ips_ports   int64  \n",
      " 36  ct_state_ttl      int64  \n",
      " 37  ct_flw_http_mthd  float64\n",
      " 38  is_ftp_login      int32  \n",
      " 39  ct_ftp_cmd        object \n",
      " 40  ct_srv_src        int64  \n",
      " 41  ct_srv_dst        int64  \n",
      " 42  ct_dst_ltm        int64  \n",
      " 43  ct_src_ltm        int64  \n",
      " 44  ct_src_dport_ltm  int64  \n",
      " 45  ct_dst_sport_ltm  int64  \n",
      " 46  ct_dst_src_ltm    int64  \n",
      " 47  attack_cat        object \n",
      " 48  label             int64  \n",
      "dtypes: float64(11), int32(1), int64(28), object(9)\n",
      "memory usage: 939.9+ MB\n"
     ]
    }
   ],
   "source": [
    "dataset1.info()"
   ]
  },
  {
   "cell_type": "code",
   "execution_count": 16,
   "metadata": {},
   "outputs": [
    {
     "data": {
      "text/plain": [
       "Index(['srcip', 'sport', 'dstip', 'dsport', 'proto', 'state', 'service',\n",
       "       'ct_ftp_cmd', 'attack_cat'],\n",
       "      dtype='object')"
      ]
     },
     "execution_count": 16,
     "metadata": {},
     "output_type": "execute_result"
    }
   ],
   "source": [
    "# Categorical feature names\n",
    "dataset1.select_dtypes(exclude=np.number).columns"
   ]
  },
  {
   "cell_type": "code",
   "execution_count": 17,
   "metadata": {},
   "outputs": [
    {
     "data": {
      "text/plain": [
       "array([0, 1, 6, 2, 4, 8, 5, 3, '0', '1', ' ', '2', '4'], dtype=object)"
      ]
     },
     "execution_count": 17,
     "metadata": {},
     "output_type": "execute_result"
    }
   ],
   "source": [
    "# In the research paper it was mentioned that, this is a numerical feature not a categorical\n",
    "dataset1['ct_ftp_cmd'].unique()"
   ]
  },
  {
   "cell_type": "code",
   "execution_count": 18,
   "metadata": {},
   "outputs": [],
   "source": [
    "# Removing empty space and converting it to numerical\n",
    "dataset1['ct_ftp_cmd'] = dataset1['ct_ftp_cmd'].replace(to_replace=' ', value=0).astype(int)"
   ]
  },
  {
   "cell_type": "code",
   "execution_count": 19,
   "metadata": {},
   "outputs": [
    {
     "data": {
      "text/plain": [
       "array([0, 1, 6, 2, 4, 8, 5, 3])"
      ]
     },
     "execution_count": 19,
     "metadata": {},
     "output_type": "execute_result"
    }
   ],
   "source": [
    "dataset1['ct_ftp_cmd'].unique()"
   ]
  },
  {
   "cell_type": "code",
   "execution_count": 20,
   "metadata": {},
   "outputs": [
    {
     "data": {
      "text/plain": [
       "Index(['srcip', 'sport', 'dstip', 'dsport', 'proto', 'state', 'service',\n",
       "       'attack_cat'],\n",
       "      dtype='object')"
      ]
     },
     "execution_count": 20,
     "metadata": {},
     "output_type": "execute_result"
    }
   ],
   "source": [
    "# Categorical feature names\n",
    "dataset1.select_dtypes(exclude=np.number).columns"
   ]
  },
  {
   "cell_type": "code",
   "execution_count": 21,
   "metadata": {},
   "outputs": [
    {
     "data": {
      "text/plain": [
       "Index(['dur', 'sbytes', 'dbytes', 'sttl', 'dttl', 'sloss', 'dloss', 'sload',\n",
       "       'dload', 'spkts', 'dpkts', 'swin', 'dwin', 'stcpb', 'dtcpb', 'smeansz',\n",
       "       'dmeansz', 'trans_depth', 'res_bdy_len', 'sjit', 'djit', 'stime',\n",
       "       'ltime', 'sintpkt', 'dintpkt', 'tcprtt', 'synack', 'ackdat',\n",
       "       'is_sm_ips_ports', 'ct_state_ttl', 'ct_flw_http_mthd', 'is_ftp_login',\n",
       "       'ct_ftp_cmd', 'ct_srv_src', 'ct_srv_dst', 'ct_dst_ltm', 'ct_src_ltm',\n",
       "       'ct_src_dport_ltm', 'ct_dst_sport_ltm', 'ct_dst_src_ltm', 'label'],\n",
       "      dtype='object')"
      ]
     },
     "execution_count": 21,
     "metadata": {},
     "output_type": "execute_result"
    }
   ],
   "source": [
    "# Numeric features names\n",
    "dataset1.select_dtypes(include=np.number).columns"
   ]
  },
  {
   "cell_type": "code",
   "execution_count": 22,
   "metadata": {},
   "outputs": [
    {
     "name": "stdout",
     "output_type": "stream",
     "text": [
      "0    2535852\n",
      "1       4195\n",
      "Name: is_sm_ips_ports, dtype: int64\n",
      "\n",
      "0    2496472\n",
      "1      43389\n",
      "4        156\n",
      "2         30\n",
      "Name: is_ftp_login, dtype: int64\n",
      "\n"
     ]
    }
   ],
   "source": [
    "# cross-checking the binary columns \n",
    "for col in 'is_sm_ips_ports', 'is_ftp_login':\n",
    "    print(dataset1[col].value_counts())\n",
    "    print()"
   ]
  },
  {
   "cell_type": "markdown",
   "metadata": {},
   "source": [
    "There are other values than '0' and '1' in the column 'is_ftp_login'. Values greater than 1 are converted to one for making it a true binary column. "
   ]
  },
  {
   "cell_type": "code",
   "execution_count": 23,
   "metadata": {},
   "outputs": [],
   "source": [
    "dataset1['is_ftp_login'] = np.where(dataset1['is_ftp_login']>1, 1, dataset1['is_ftp_login'])"
   ]
  },
  {
   "cell_type": "code",
   "execution_count": 24,
   "metadata": {},
   "outputs": [
    {
     "data": {
      "text/plain": [
       "0    2496472\n",
       "1      43575\n",
       "Name: is_ftp_login, dtype: int64"
      ]
     },
     "execution_count": 24,
     "metadata": {},
     "output_type": "execute_result"
    }
   ],
   "source": [
    "dataset1['is_ftp_login'].value_counts()"
   ]
  },
  {
   "cell_type": "code",
   "execution_count": 25,
   "metadata": {},
   "outputs": [
    {
     "data": {
      "text/plain": [
       "-           1246397\n",
       "dns          781668\n",
       "http         206273\n",
       "ftp-data     125783\n",
       "smtp          81645\n",
       "ftp           49090\n",
       "ssh           47160\n",
       "pop3           1533\n",
       "dhcp            172\n",
       "ssl             142\n",
       "snmp            113\n",
       "radius           40\n",
       "irc              31\n",
       "Name: service, dtype: int64"
      ]
     },
     "execution_count": 25,
     "metadata": {},
     "output_type": "execute_result"
    }
   ],
   "source": [
    "dataset1['service'].value_counts()"
   ]
  },
  {
   "cell_type": "code",
   "execution_count": 26,
   "metadata": {},
   "outputs": [],
   "source": [
    "# removing all the \"-\" and replacing those with \"None\"\n",
    "dataset1['service'] = dataset1['service'].apply(lambda x:\"None\" if x==\"-\" else x)"
   ]
  },
  {
   "cell_type": "code",
   "execution_count": 27,
   "metadata": {},
   "outputs": [
    {
     "data": {
      "text/plain": [
       "None        1246397\n",
       "dns          781668\n",
       "http         206273\n",
       "ftp-data     125783\n",
       "smtp          81645\n",
       "ftp           49090\n",
       "ssh           47160\n",
       "pop3           1533\n",
       "dhcp            172\n",
       "ssl             142\n",
       "snmp            113\n",
       "radius           40\n",
       "irc              31\n",
       "Name: service, dtype: int64"
      ]
     },
     "execution_count": 27,
     "metadata": {},
     "output_type": "execute_result"
    }
   ],
   "source": [
    "dataset1['service'].value_counts()"
   ]
  },
  {
   "cell_type": "code",
   "execution_count": 28,
   "metadata": {},
   "outputs": [
    {
     "data": {
      "text/plain": [
       "11"
      ]
     },
     "execution_count": 28,
     "metadata": {},
     "output_type": "execute_result"
    }
   ],
   "source": [
    "# In the research paper there are not 10 unique values\n",
    "dataset1['attack_cat'].nunique()"
   ]
  },
  {
   "cell_type": "code",
   "execution_count": 29,
   "metadata": {},
   "outputs": [
    {
     "data": {
      "text/plain": [
       "normal            2218764\n",
       "generic            215481\n",
       "exploits            44525\n",
       "fuzzers             24246\n",
       "dos                 16353\n",
       "reconnaissance      13987\n",
       "analysis             2677\n",
       "backdoor             1795\n",
       "shellcode            1511\n",
       "backdoors             534\n",
       "worms                 174\n",
       "Name: attack_cat, dtype: int64"
      ]
     },
     "execution_count": 29,
     "metadata": {},
     "output_type": "execute_result"
    }
   ],
   "source": [
    "dataset1['attack_cat'].value_counts()"
   ]
  },
  {
   "cell_type": "markdown",
   "metadata": {},
   "source": [
    "It can be seen there are two values named 'backdoor' and 'backdoors' which are basically same. All are converted to 'backdoor' for better training of the dataset."
   ]
  },
  {
   "cell_type": "code",
   "execution_count": 30,
   "metadata": {},
   "outputs": [],
   "source": [
    "dataset1['attack_cat'] = dataset1['attack_cat'].replace('backdoors','backdoor', regex=True).apply(lambda x: x.strip().lower())"
   ]
  },
  {
   "cell_type": "code",
   "execution_count": 31,
   "metadata": {},
   "outputs": [
    {
     "data": {
      "text/plain": [
       "normal            2218764\n",
       "generic            215481\n",
       "exploits            44525\n",
       "fuzzers             24246\n",
       "dos                 16353\n",
       "reconnaissance      13987\n",
       "analysis             2677\n",
       "backdoor             2329\n",
       "shellcode            1511\n",
       "worms                 174\n",
       "Name: attack_cat, dtype: int64"
      ]
     },
     "execution_count": 31,
     "metadata": {},
     "output_type": "execute_result"
    }
   ],
   "source": [
    "dataset1['attack_cat'].value_counts()"
   ]
  },
  {
   "cell_type": "markdown",
   "metadata": {},
   "source": [
    "Now, correlation can be considered as the next step.\n",
    "The dataset contains a large number of features. Features with high correlation values can be removed for better calculation."
   ]
  },
  {
   "cell_type": "markdown",
   "metadata": {},
   "source": [
    "### Feature Selection"
   ]
  },
  {
   "cell_type": "code",
   "execution_count": 32,
   "metadata": {},
   "outputs": [],
   "source": [
    "# Utility function\n",
    "def multi_corr(col1, col2=\"label\", df=dataset1):\n",
    "   \n",
    "    corr = df[[col1, col2]].corr().iloc[0,1]\n",
    "\n",
    "    print(\"Correlation : \", corr)"
   ]
  },
  {
   "cell_type": "code",
   "execution_count": 33,
   "metadata": {},
   "outputs": [],
   "source": [
    "def corr(col1, col2=\"label\", df=dataset1):\n",
    "    \n",
    "    return df[[col1, col2]].corr().iloc[0,1]"
   ]
  },
  {
   "cell_type": "code",
   "execution_count": 34,
   "metadata": {},
   "outputs": [],
   "source": [
    "# Selecting all the features with high correlation values with other features\n",
    "corr_matrix = dataset1.corr().abs()\n",
    "\n",
    "# Selecting upper triangle of correlation matrix\n",
    "upper = corr_matrix.where(np.triu(np.ones(corr_matrix.shape), k=1).astype(np.bool))\n",
    "\n",
    "# Finding index of feature columns with correlation greater than 0.95\n",
    "to_drop = [column for column in upper.columns if any(upper[column] > 0.95)]"
   ]
  },
  {
   "cell_type": "code",
   "execution_count": 35,
   "metadata": {},
   "outputs": [
    {
     "name": "stdout",
     "output_type": "stream",
     "text": [
      "['sloss', 'dloss', 'dpkts', 'dwin', 'ltime', 'ct_srv_dst', 'ct_src_dport_ltm', 'ct_dst_src_ltm']\n"
     ]
    }
   ],
   "source": [
    "print(to_drop)"
   ]
  },
  {
   "cell_type": "code",
   "execution_count": 36,
   "metadata": {},
   "outputs": [],
   "source": [
    "# removing the highly correlated features from dataset\n",
    "dataset1.drop(columns=to_drop, inplace=True)"
   ]
  },
  {
   "cell_type": "code",
   "execution_count": 37,
   "metadata": {},
   "outputs": [],
   "source": [
    "# Dropping columns which are not useful for the classification\n",
    "# attack_cat is for multiclass classification\n",
    "dataset1.drop(['srcip', 'sport', 'dstip', 'dsport', 'attack_cat'], axis=1, inplace=True)"
   ]
  },
  {
   "cell_type": "code",
   "execution_count": 38,
   "metadata": {},
   "outputs": [],
   "source": [
    "dataset1 = dataset1.dropna()"
   ]
  },
  {
   "cell_type": "code",
   "execution_count": 39,
   "metadata": {},
   "outputs": [],
   "source": [
    "dataset1.reset_index(drop=True, inplace=True)"
   ]
  },
  {
   "cell_type": "code",
   "execution_count": 40,
   "metadata": {},
   "outputs": [
    {
     "data": {
      "text/html": [
       "<div>\n",
       "<style scoped>\n",
       "    .dataframe tbody tr th:only-of-type {\n",
       "        vertical-align: middle;\n",
       "    }\n",
       "\n",
       "    .dataframe tbody tr th {\n",
       "        vertical-align: top;\n",
       "    }\n",
       "\n",
       "    .dataframe thead th {\n",
       "        text-align: right;\n",
       "    }\n",
       "</style>\n",
       "<table border=\"1\" class=\"dataframe\">\n",
       "  <thead>\n",
       "    <tr style=\"text-align: right;\">\n",
       "      <th></th>\n",
       "      <th>proto</th>\n",
       "      <th>state</th>\n",
       "      <th>dur</th>\n",
       "      <th>sbytes</th>\n",
       "      <th>dbytes</th>\n",
       "      <th>sttl</th>\n",
       "      <th>dttl</th>\n",
       "      <th>service</th>\n",
       "      <th>sload</th>\n",
       "      <th>dload</th>\n",
       "      <th>...</th>\n",
       "      <th>is_sm_ips_ports</th>\n",
       "      <th>ct_state_ttl</th>\n",
       "      <th>ct_flw_http_mthd</th>\n",
       "      <th>is_ftp_login</th>\n",
       "      <th>ct_ftp_cmd</th>\n",
       "      <th>ct_srv_src</th>\n",
       "      <th>ct_dst_ltm</th>\n",
       "      <th>ct_src_ltm</th>\n",
       "      <th>ct_dst_sport_ltm</th>\n",
       "      <th>label</th>\n",
       "    </tr>\n",
       "  </thead>\n",
       "  <tbody>\n",
       "    <tr>\n",
       "      <th>0</th>\n",
       "      <td>udp</td>\n",
       "      <td>CON</td>\n",
       "      <td>0.001055</td>\n",
       "      <td>132</td>\n",
       "      <td>164</td>\n",
       "      <td>31</td>\n",
       "      <td>29</td>\n",
       "      <td>dns</td>\n",
       "      <td>500473.93750</td>\n",
       "      <td>621800.93750</td>\n",
       "      <td>...</td>\n",
       "      <td>0</td>\n",
       "      <td>0</td>\n",
       "      <td>0.0</td>\n",
       "      <td>0</td>\n",
       "      <td>0</td>\n",
       "      <td>3</td>\n",
       "      <td>1</td>\n",
       "      <td>3</td>\n",
       "      <td>1</td>\n",
       "      <td>0</td>\n",
       "    </tr>\n",
       "    <tr>\n",
       "      <th>1</th>\n",
       "      <td>udp</td>\n",
       "      <td>CON</td>\n",
       "      <td>0.036133</td>\n",
       "      <td>528</td>\n",
       "      <td>304</td>\n",
       "      <td>31</td>\n",
       "      <td>29</td>\n",
       "      <td>None</td>\n",
       "      <td>87676.08594</td>\n",
       "      <td>50480.17188</td>\n",
       "      <td>...</td>\n",
       "      <td>0</td>\n",
       "      <td>0</td>\n",
       "      <td>0.0</td>\n",
       "      <td>0</td>\n",
       "      <td>0</td>\n",
       "      <td>2</td>\n",
       "      <td>2</td>\n",
       "      <td>3</td>\n",
       "      <td>1</td>\n",
       "      <td>0</td>\n",
       "    </tr>\n",
       "    <tr>\n",
       "      <th>2</th>\n",
       "      <td>udp</td>\n",
       "      <td>CON</td>\n",
       "      <td>0.001119</td>\n",
       "      <td>146</td>\n",
       "      <td>178</td>\n",
       "      <td>31</td>\n",
       "      <td>29</td>\n",
       "      <td>dns</td>\n",
       "      <td>521894.53130</td>\n",
       "      <td>636282.37500</td>\n",
       "      <td>...</td>\n",
       "      <td>0</td>\n",
       "      <td>0</td>\n",
       "      <td>0.0</td>\n",
       "      <td>0</td>\n",
       "      <td>0</td>\n",
       "      <td>12</td>\n",
       "      <td>1</td>\n",
       "      <td>2</td>\n",
       "      <td>1</td>\n",
       "      <td>0</td>\n",
       "    </tr>\n",
       "    <tr>\n",
       "      <th>3</th>\n",
       "      <td>udp</td>\n",
       "      <td>CON</td>\n",
       "      <td>0.001209</td>\n",
       "      <td>132</td>\n",
       "      <td>164</td>\n",
       "      <td>31</td>\n",
       "      <td>29</td>\n",
       "      <td>dns</td>\n",
       "      <td>436724.56250</td>\n",
       "      <td>542597.18750</td>\n",
       "      <td>...</td>\n",
       "      <td>0</td>\n",
       "      <td>0</td>\n",
       "      <td>0.0</td>\n",
       "      <td>0</td>\n",
       "      <td>0</td>\n",
       "      <td>6</td>\n",
       "      <td>1</td>\n",
       "      <td>1</td>\n",
       "      <td>1</td>\n",
       "      <td>0</td>\n",
       "    </tr>\n",
       "    <tr>\n",
       "      <th>4</th>\n",
       "      <td>udp</td>\n",
       "      <td>CON</td>\n",
       "      <td>0.001169</td>\n",
       "      <td>146</td>\n",
       "      <td>178</td>\n",
       "      <td>31</td>\n",
       "      <td>29</td>\n",
       "      <td>dns</td>\n",
       "      <td>499572.25000</td>\n",
       "      <td>609067.56250</td>\n",
       "      <td>...</td>\n",
       "      <td>0</td>\n",
       "      <td>0</td>\n",
       "      <td>0.0</td>\n",
       "      <td>0</td>\n",
       "      <td>0</td>\n",
       "      <td>7</td>\n",
       "      <td>1</td>\n",
       "      <td>1</td>\n",
       "      <td>1</td>\n",
       "      <td>0</td>\n",
       "    </tr>\n",
       "  </tbody>\n",
       "</table>\n",
       "<p>5 rows × 36 columns</p>\n",
       "</div>"
      ],
      "text/plain": [
       "  proto state       dur  sbytes  dbytes  sttl  dttl service         sload  \\\n",
       "0   udp   CON  0.001055     132     164    31    29     dns  500473.93750   \n",
       "1   udp   CON  0.036133     528     304    31    29    None   87676.08594   \n",
       "2   udp   CON  0.001119     146     178    31    29     dns  521894.53130   \n",
       "3   udp   CON  0.001209     132     164    31    29     dns  436724.56250   \n",
       "4   udp   CON  0.001169     146     178    31    29     dns  499572.25000   \n",
       "\n",
       "          dload  ...  is_sm_ips_ports  ct_state_ttl  ct_flw_http_mthd  \\\n",
       "0  621800.93750  ...                0             0               0.0   \n",
       "1   50480.17188  ...                0             0               0.0   \n",
       "2  636282.37500  ...                0             0               0.0   \n",
       "3  542597.18750  ...                0             0               0.0   \n",
       "4  609067.56250  ...                0             0               0.0   \n",
       "\n",
       "   is_ftp_login  ct_ftp_cmd  ct_srv_src  ct_dst_ltm  ct_src_ltm  \\\n",
       "0             0           0           3           1           3   \n",
       "1             0           0           2           2           3   \n",
       "2             0           0          12           1           2   \n",
       "3             0           0           6           1           1   \n",
       "4             0           0           7           1           1   \n",
       "\n",
       "   ct_dst_sport_ltm  label  \n",
       "0                 1      0  \n",
       "1                 1      0  \n",
       "2                 1      0  \n",
       "3                 1      0  \n",
       "4                 1      0  \n",
       "\n",
       "[5 rows x 36 columns]"
      ]
     },
     "execution_count": 40,
     "metadata": {},
     "output_type": "execute_result"
    }
   ],
   "source": [
    "dataset1.head()"
   ]
  },
  {
   "cell_type": "code",
   "execution_count": 41,
   "metadata": {},
   "outputs": [
    {
     "data": {
      "text/plain": [
       "(2540047, 36)"
      ]
     },
     "execution_count": 41,
     "metadata": {},
     "output_type": "execute_result"
    }
   ],
   "source": [
    "dataset1.shape"
   ]
  },
  {
   "cell_type": "code",
   "execution_count": 42,
   "metadata": {
    "scrolled": true
   },
   "outputs": [
    {
     "data": {
      "text/html": [
       "<div>\n",
       "<style scoped>\n",
       "    .dataframe tbody tr th:only-of-type {\n",
       "        vertical-align: middle;\n",
       "    }\n",
       "\n",
       "    .dataframe tbody tr th {\n",
       "        vertical-align: top;\n",
       "    }\n",
       "\n",
       "    .dataframe thead th {\n",
       "        text-align: right;\n",
       "    }\n",
       "</style>\n",
       "<table border=\"1\" class=\"dataframe\">\n",
       "  <thead>\n",
       "    <tr style=\"text-align: right;\">\n",
       "      <th></th>\n",
       "      <th>proto</th>\n",
       "      <th>state</th>\n",
       "      <th>dur</th>\n",
       "      <th>sbytes</th>\n",
       "      <th>dbytes</th>\n",
       "      <th>sttl</th>\n",
       "      <th>dttl</th>\n",
       "      <th>service</th>\n",
       "      <th>sload</th>\n",
       "      <th>dload</th>\n",
       "      <th>...</th>\n",
       "      <th>is_sm_ips_ports</th>\n",
       "      <th>ct_state_ttl</th>\n",
       "      <th>ct_flw_http_mthd</th>\n",
       "      <th>is_ftp_login</th>\n",
       "      <th>ct_ftp_cmd</th>\n",
       "      <th>ct_srv_src</th>\n",
       "      <th>ct_dst_ltm</th>\n",
       "      <th>ct_src_ltm</th>\n",
       "      <th>ct_dst_sport_ltm</th>\n",
       "      <th>label</th>\n",
       "    </tr>\n",
       "  </thead>\n",
       "  <tbody>\n",
       "    <tr>\n",
       "      <th>0</th>\n",
       "      <td>udp</td>\n",
       "      <td>CON</td>\n",
       "      <td>0.001055</td>\n",
       "      <td>132</td>\n",
       "      <td>164</td>\n",
       "      <td>31</td>\n",
       "      <td>29</td>\n",
       "      <td>dns</td>\n",
       "      <td>500473.937500</td>\n",
       "      <td>621800.937500</td>\n",
       "      <td>...</td>\n",
       "      <td>0</td>\n",
       "      <td>0</td>\n",
       "      <td>0.0</td>\n",
       "      <td>0</td>\n",
       "      <td>0</td>\n",
       "      <td>3</td>\n",
       "      <td>1</td>\n",
       "      <td>3</td>\n",
       "      <td>1</td>\n",
       "      <td>0</td>\n",
       "    </tr>\n",
       "    <tr>\n",
       "      <th>1</th>\n",
       "      <td>udp</td>\n",
       "      <td>CON</td>\n",
       "      <td>0.036133</td>\n",
       "      <td>528</td>\n",
       "      <td>304</td>\n",
       "      <td>31</td>\n",
       "      <td>29</td>\n",
       "      <td>None</td>\n",
       "      <td>87676.085940</td>\n",
       "      <td>50480.171880</td>\n",
       "      <td>...</td>\n",
       "      <td>0</td>\n",
       "      <td>0</td>\n",
       "      <td>0.0</td>\n",
       "      <td>0</td>\n",
       "      <td>0</td>\n",
       "      <td>2</td>\n",
       "      <td>2</td>\n",
       "      <td>3</td>\n",
       "      <td>1</td>\n",
       "      <td>0</td>\n",
       "    </tr>\n",
       "    <tr>\n",
       "      <th>2</th>\n",
       "      <td>udp</td>\n",
       "      <td>CON</td>\n",
       "      <td>0.001119</td>\n",
       "      <td>146</td>\n",
       "      <td>178</td>\n",
       "      <td>31</td>\n",
       "      <td>29</td>\n",
       "      <td>dns</td>\n",
       "      <td>521894.531300</td>\n",
       "      <td>636282.375000</td>\n",
       "      <td>...</td>\n",
       "      <td>0</td>\n",
       "      <td>0</td>\n",
       "      <td>0.0</td>\n",
       "      <td>0</td>\n",
       "      <td>0</td>\n",
       "      <td>12</td>\n",
       "      <td>1</td>\n",
       "      <td>2</td>\n",
       "      <td>1</td>\n",
       "      <td>0</td>\n",
       "    </tr>\n",
       "    <tr>\n",
       "      <th>3</th>\n",
       "      <td>udp</td>\n",
       "      <td>CON</td>\n",
       "      <td>0.001209</td>\n",
       "      <td>132</td>\n",
       "      <td>164</td>\n",
       "      <td>31</td>\n",
       "      <td>29</td>\n",
       "      <td>dns</td>\n",
       "      <td>436724.562500</td>\n",
       "      <td>542597.187500</td>\n",
       "      <td>...</td>\n",
       "      <td>0</td>\n",
       "      <td>0</td>\n",
       "      <td>0.0</td>\n",
       "      <td>0</td>\n",
       "      <td>0</td>\n",
       "      <td>6</td>\n",
       "      <td>1</td>\n",
       "      <td>1</td>\n",
       "      <td>1</td>\n",
       "      <td>0</td>\n",
       "    </tr>\n",
       "    <tr>\n",
       "      <th>4</th>\n",
       "      <td>udp</td>\n",
       "      <td>CON</td>\n",
       "      <td>0.001169</td>\n",
       "      <td>146</td>\n",
       "      <td>178</td>\n",
       "      <td>31</td>\n",
       "      <td>29</td>\n",
       "      <td>dns</td>\n",
       "      <td>499572.250000</td>\n",
       "      <td>609067.562500</td>\n",
       "      <td>...</td>\n",
       "      <td>0</td>\n",
       "      <td>0</td>\n",
       "      <td>0.0</td>\n",
       "      <td>0</td>\n",
       "      <td>0</td>\n",
       "      <td>7</td>\n",
       "      <td>1</td>\n",
       "      <td>1</td>\n",
       "      <td>1</td>\n",
       "      <td>0</td>\n",
       "    </tr>\n",
       "    <tr>\n",
       "      <th>...</th>\n",
       "      <td>...</td>\n",
       "      <td>...</td>\n",
       "      <td>...</td>\n",
       "      <td>...</td>\n",
       "      <td>...</td>\n",
       "      <td>...</td>\n",
       "      <td>...</td>\n",
       "      <td>...</td>\n",
       "      <td>...</td>\n",
       "      <td>...</td>\n",
       "      <td>...</td>\n",
       "      <td>...</td>\n",
       "      <td>...</td>\n",
       "      <td>...</td>\n",
       "      <td>...</td>\n",
       "      <td>...</td>\n",
       "      <td>...</td>\n",
       "      <td>...</td>\n",
       "      <td>...</td>\n",
       "      <td>...</td>\n",
       "      <td>...</td>\n",
       "    </tr>\n",
       "    <tr>\n",
       "      <th>2540042</th>\n",
       "      <td>tcp</td>\n",
       "      <td>FIN</td>\n",
       "      <td>0.087306</td>\n",
       "      <td>320</td>\n",
       "      <td>1828</td>\n",
       "      <td>31</td>\n",
       "      <td>29</td>\n",
       "      <td>ftp-data</td>\n",
       "      <td>24465.671880</td>\n",
       "      <td>146610.765600</td>\n",
       "      <td>...</td>\n",
       "      <td>0</td>\n",
       "      <td>0</td>\n",
       "      <td>0.0</td>\n",
       "      <td>0</td>\n",
       "      <td>0</td>\n",
       "      <td>1</td>\n",
       "      <td>3</td>\n",
       "      <td>3</td>\n",
       "      <td>1</td>\n",
       "      <td>0</td>\n",
       "    </tr>\n",
       "    <tr>\n",
       "      <th>2540043</th>\n",
       "      <td>tcp</td>\n",
       "      <td>CON</td>\n",
       "      <td>0.365058</td>\n",
       "      <td>456</td>\n",
       "      <td>346</td>\n",
       "      <td>31</td>\n",
       "      <td>29</td>\n",
       "      <td>ftp</td>\n",
       "      <td>8743.816406</td>\n",
       "      <td>6333.240234</td>\n",
       "      <td>...</td>\n",
       "      <td>0</td>\n",
       "      <td>0</td>\n",
       "      <td>0.0</td>\n",
       "      <td>1</td>\n",
       "      <td>2</td>\n",
       "      <td>2</td>\n",
       "      <td>2</td>\n",
       "      <td>2</td>\n",
       "      <td>2</td>\n",
       "      <td>0</td>\n",
       "    </tr>\n",
       "    <tr>\n",
       "      <th>2540044</th>\n",
       "      <td>tcp</td>\n",
       "      <td>CON</td>\n",
       "      <td>6.335154</td>\n",
       "      <td>1802</td>\n",
       "      <td>2088</td>\n",
       "      <td>31</td>\n",
       "      <td>29</td>\n",
       "      <td>ftp</td>\n",
       "      <td>2204.839844</td>\n",
       "      <td>2549.582764</td>\n",
       "      <td>...</td>\n",
       "      <td>0</td>\n",
       "      <td>0</td>\n",
       "      <td>0.0</td>\n",
       "      <td>1</td>\n",
       "      <td>2</td>\n",
       "      <td>2</td>\n",
       "      <td>4</td>\n",
       "      <td>2</td>\n",
       "      <td>2</td>\n",
       "      <td>0</td>\n",
       "    </tr>\n",
       "    <tr>\n",
       "      <th>2540045</th>\n",
       "      <td>tcp</td>\n",
       "      <td>CON</td>\n",
       "      <td>2.200934</td>\n",
       "      <td>3498</td>\n",
       "      <td>166054</td>\n",
       "      <td>31</td>\n",
       "      <td>29</td>\n",
       "      <td>http</td>\n",
       "      <td>12496.513670</td>\n",
       "      <td>598375.062500</td>\n",
       "      <td>...</td>\n",
       "      <td>0</td>\n",
       "      <td>0</td>\n",
       "      <td>2.0</td>\n",
       "      <td>0</td>\n",
       "      <td>0</td>\n",
       "      <td>1</td>\n",
       "      <td>2</td>\n",
       "      <td>4</td>\n",
       "      <td>2</td>\n",
       "      <td>0</td>\n",
       "    </tr>\n",
       "    <tr>\n",
       "      <th>2540046</th>\n",
       "      <td>tcp</td>\n",
       "      <td>CON</td>\n",
       "      <td>0.942984</td>\n",
       "      <td>574</td>\n",
       "      <td>676</td>\n",
       "      <td>62</td>\n",
       "      <td>252</td>\n",
       "      <td>pop3</td>\n",
       "      <td>4470.913574</td>\n",
       "      <td>5259.898438</td>\n",
       "      <td>...</td>\n",
       "      <td>0</td>\n",
       "      <td>3</td>\n",
       "      <td>0.0</td>\n",
       "      <td>0</td>\n",
       "      <td>0</td>\n",
       "      <td>1</td>\n",
       "      <td>2</td>\n",
       "      <td>4</td>\n",
       "      <td>2</td>\n",
       "      <td>1</td>\n",
       "    </tr>\n",
       "  </tbody>\n",
       "</table>\n",
       "<p>2540047 rows × 36 columns</p>\n",
       "</div>"
      ],
      "text/plain": [
       "        proto state       dur  sbytes  dbytes  sttl  dttl   service  \\\n",
       "0         udp   CON  0.001055     132     164    31    29       dns   \n",
       "1         udp   CON  0.036133     528     304    31    29      None   \n",
       "2         udp   CON  0.001119     146     178    31    29       dns   \n",
       "3         udp   CON  0.001209     132     164    31    29       dns   \n",
       "4         udp   CON  0.001169     146     178    31    29       dns   \n",
       "...       ...   ...       ...     ...     ...   ...   ...       ...   \n",
       "2540042   tcp   FIN  0.087306     320    1828    31    29  ftp-data   \n",
       "2540043   tcp   CON  0.365058     456     346    31    29       ftp   \n",
       "2540044   tcp   CON  6.335154    1802    2088    31    29       ftp   \n",
       "2540045   tcp   CON  2.200934    3498  166054    31    29      http   \n",
       "2540046   tcp   CON  0.942984     574     676    62   252      pop3   \n",
       "\n",
       "                 sload          dload  ...  is_sm_ips_ports  ct_state_ttl  \\\n",
       "0        500473.937500  621800.937500  ...                0             0   \n",
       "1         87676.085940   50480.171880  ...                0             0   \n",
       "2        521894.531300  636282.375000  ...                0             0   \n",
       "3        436724.562500  542597.187500  ...                0             0   \n",
       "4        499572.250000  609067.562500  ...                0             0   \n",
       "...                ...            ...  ...              ...           ...   \n",
       "2540042   24465.671880  146610.765600  ...                0             0   \n",
       "2540043    8743.816406    6333.240234  ...                0             0   \n",
       "2540044    2204.839844    2549.582764  ...                0             0   \n",
       "2540045   12496.513670  598375.062500  ...                0             0   \n",
       "2540046    4470.913574    5259.898438  ...                0             3   \n",
       "\n",
       "         ct_flw_http_mthd  is_ftp_login  ct_ftp_cmd  ct_srv_src  ct_dst_ltm  \\\n",
       "0                     0.0             0           0           3           1   \n",
       "1                     0.0             0           0           2           2   \n",
       "2                     0.0             0           0          12           1   \n",
       "3                     0.0             0           0           6           1   \n",
       "4                     0.0             0           0           7           1   \n",
       "...                   ...           ...         ...         ...         ...   \n",
       "2540042               0.0             0           0           1           3   \n",
       "2540043               0.0             1           2           2           2   \n",
       "2540044               0.0             1           2           2           4   \n",
       "2540045               2.0             0           0           1           2   \n",
       "2540046               0.0             0           0           1           2   \n",
       "\n",
       "         ct_src_ltm  ct_dst_sport_ltm  label  \n",
       "0                 3                 1      0  \n",
       "1                 3                 1      0  \n",
       "2                 2                 1      0  \n",
       "3                 1                 1      0  \n",
       "4                 1                 1      0  \n",
       "...             ...               ...    ...  \n",
       "2540042           3                 1      0  \n",
       "2540043           2                 2      0  \n",
       "2540044           2                 2      0  \n",
       "2540045           4                 2      0  \n",
       "2540046           4                 2      1  \n",
       "\n",
       "[2540047 rows x 36 columns]"
      ]
     },
     "execution_count": 42,
     "metadata": {},
     "output_type": "execute_result"
    }
   ],
   "source": [
    "dataset_backup = dataset1\n",
    "dataset_backup"
   ]
  },
  {
   "cell_type": "code",
   "execution_count": 43,
   "metadata": {},
   "outputs": [],
   "source": [
    "dataset1 = dataset_backup"
   ]
  },
  {
   "cell_type": "markdown",
   "metadata": {},
   "source": [
    "### Categorical Encoding"
   ]
  },
  {
   "cell_type": "markdown",
   "metadata": {},
   "source": [
    "All but three of the features show numerical data. The three features, namely proto, state and service are data of categorical types and thus, categorical encoding is performed to convert the text data to numerical data. "
   ]
  },
  {
   "cell_type": "code",
   "execution_count": 44,
   "metadata": {},
   "outputs": [],
   "source": [
    "dataset1['proto']=dataset1.proto.astype('category').cat.codes"
   ]
  },
  {
   "cell_type": "code",
   "execution_count": 45,
   "metadata": {},
   "outputs": [
    {
     "data": {
      "text/html": [
       "<div>\n",
       "<style scoped>\n",
       "    .dataframe tbody tr th:only-of-type {\n",
       "        vertical-align: middle;\n",
       "    }\n",
       "\n",
       "    .dataframe tbody tr th {\n",
       "        vertical-align: top;\n",
       "    }\n",
       "\n",
       "    .dataframe thead th {\n",
       "        text-align: right;\n",
       "    }\n",
       "</style>\n",
       "<table border=\"1\" class=\"dataframe\">\n",
       "  <thead>\n",
       "    <tr style=\"text-align: right;\">\n",
       "      <th></th>\n",
       "      <th>proto</th>\n",
       "      <th>state</th>\n",
       "      <th>dur</th>\n",
       "      <th>sbytes</th>\n",
       "      <th>dbytes</th>\n",
       "      <th>sttl</th>\n",
       "      <th>dttl</th>\n",
       "      <th>service</th>\n",
       "      <th>sload</th>\n",
       "      <th>dload</th>\n",
       "      <th>...</th>\n",
       "      <th>is_sm_ips_ports</th>\n",
       "      <th>ct_state_ttl</th>\n",
       "      <th>ct_flw_http_mthd</th>\n",
       "      <th>is_ftp_login</th>\n",
       "      <th>ct_ftp_cmd</th>\n",
       "      <th>ct_srv_src</th>\n",
       "      <th>ct_dst_ltm</th>\n",
       "      <th>ct_src_ltm</th>\n",
       "      <th>ct_dst_sport_ltm</th>\n",
       "      <th>label</th>\n",
       "    </tr>\n",
       "  </thead>\n",
       "  <tbody>\n",
       "    <tr>\n",
       "      <th>0</th>\n",
       "      <td>120</td>\n",
       "      <td>CON</td>\n",
       "      <td>0.001055</td>\n",
       "      <td>132</td>\n",
       "      <td>164</td>\n",
       "      <td>31</td>\n",
       "      <td>29</td>\n",
       "      <td>dns</td>\n",
       "      <td>500473.937500</td>\n",
       "      <td>621800.937500</td>\n",
       "      <td>...</td>\n",
       "      <td>0</td>\n",
       "      <td>0</td>\n",
       "      <td>0.0</td>\n",
       "      <td>0</td>\n",
       "      <td>0</td>\n",
       "      <td>3</td>\n",
       "      <td>1</td>\n",
       "      <td>3</td>\n",
       "      <td>1</td>\n",
       "      <td>0</td>\n",
       "    </tr>\n",
       "    <tr>\n",
       "      <th>1</th>\n",
       "      <td>120</td>\n",
       "      <td>CON</td>\n",
       "      <td>0.036133</td>\n",
       "      <td>528</td>\n",
       "      <td>304</td>\n",
       "      <td>31</td>\n",
       "      <td>29</td>\n",
       "      <td>None</td>\n",
       "      <td>87676.085940</td>\n",
       "      <td>50480.171880</td>\n",
       "      <td>...</td>\n",
       "      <td>0</td>\n",
       "      <td>0</td>\n",
       "      <td>0.0</td>\n",
       "      <td>0</td>\n",
       "      <td>0</td>\n",
       "      <td>2</td>\n",
       "      <td>2</td>\n",
       "      <td>3</td>\n",
       "      <td>1</td>\n",
       "      <td>0</td>\n",
       "    </tr>\n",
       "    <tr>\n",
       "      <th>2</th>\n",
       "      <td>120</td>\n",
       "      <td>CON</td>\n",
       "      <td>0.001119</td>\n",
       "      <td>146</td>\n",
       "      <td>178</td>\n",
       "      <td>31</td>\n",
       "      <td>29</td>\n",
       "      <td>dns</td>\n",
       "      <td>521894.531300</td>\n",
       "      <td>636282.375000</td>\n",
       "      <td>...</td>\n",
       "      <td>0</td>\n",
       "      <td>0</td>\n",
       "      <td>0.0</td>\n",
       "      <td>0</td>\n",
       "      <td>0</td>\n",
       "      <td>12</td>\n",
       "      <td>1</td>\n",
       "      <td>2</td>\n",
       "      <td>1</td>\n",
       "      <td>0</td>\n",
       "    </tr>\n",
       "    <tr>\n",
       "      <th>3</th>\n",
       "      <td>120</td>\n",
       "      <td>CON</td>\n",
       "      <td>0.001209</td>\n",
       "      <td>132</td>\n",
       "      <td>164</td>\n",
       "      <td>31</td>\n",
       "      <td>29</td>\n",
       "      <td>dns</td>\n",
       "      <td>436724.562500</td>\n",
       "      <td>542597.187500</td>\n",
       "      <td>...</td>\n",
       "      <td>0</td>\n",
       "      <td>0</td>\n",
       "      <td>0.0</td>\n",
       "      <td>0</td>\n",
       "      <td>0</td>\n",
       "      <td>6</td>\n",
       "      <td>1</td>\n",
       "      <td>1</td>\n",
       "      <td>1</td>\n",
       "      <td>0</td>\n",
       "    </tr>\n",
       "    <tr>\n",
       "      <th>4</th>\n",
       "      <td>120</td>\n",
       "      <td>CON</td>\n",
       "      <td>0.001169</td>\n",
       "      <td>146</td>\n",
       "      <td>178</td>\n",
       "      <td>31</td>\n",
       "      <td>29</td>\n",
       "      <td>dns</td>\n",
       "      <td>499572.250000</td>\n",
       "      <td>609067.562500</td>\n",
       "      <td>...</td>\n",
       "      <td>0</td>\n",
       "      <td>0</td>\n",
       "      <td>0.0</td>\n",
       "      <td>0</td>\n",
       "      <td>0</td>\n",
       "      <td>7</td>\n",
       "      <td>1</td>\n",
       "      <td>1</td>\n",
       "      <td>1</td>\n",
       "      <td>0</td>\n",
       "    </tr>\n",
       "    <tr>\n",
       "      <th>...</th>\n",
       "      <td>...</td>\n",
       "      <td>...</td>\n",
       "      <td>...</td>\n",
       "      <td>...</td>\n",
       "      <td>...</td>\n",
       "      <td>...</td>\n",
       "      <td>...</td>\n",
       "      <td>...</td>\n",
       "      <td>...</td>\n",
       "      <td>...</td>\n",
       "      <td>...</td>\n",
       "      <td>...</td>\n",
       "      <td>...</td>\n",
       "      <td>...</td>\n",
       "      <td>...</td>\n",
       "      <td>...</td>\n",
       "      <td>...</td>\n",
       "      <td>...</td>\n",
       "      <td>...</td>\n",
       "      <td>...</td>\n",
       "      <td>...</td>\n",
       "    </tr>\n",
       "    <tr>\n",
       "      <th>2540042</th>\n",
       "      <td>114</td>\n",
       "      <td>FIN</td>\n",
       "      <td>0.087306</td>\n",
       "      <td>320</td>\n",
       "      <td>1828</td>\n",
       "      <td>31</td>\n",
       "      <td>29</td>\n",
       "      <td>ftp-data</td>\n",
       "      <td>24465.671880</td>\n",
       "      <td>146610.765600</td>\n",
       "      <td>...</td>\n",
       "      <td>0</td>\n",
       "      <td>0</td>\n",
       "      <td>0.0</td>\n",
       "      <td>0</td>\n",
       "      <td>0</td>\n",
       "      <td>1</td>\n",
       "      <td>3</td>\n",
       "      <td>3</td>\n",
       "      <td>1</td>\n",
       "      <td>0</td>\n",
       "    </tr>\n",
       "    <tr>\n",
       "      <th>2540043</th>\n",
       "      <td>114</td>\n",
       "      <td>CON</td>\n",
       "      <td>0.365058</td>\n",
       "      <td>456</td>\n",
       "      <td>346</td>\n",
       "      <td>31</td>\n",
       "      <td>29</td>\n",
       "      <td>ftp</td>\n",
       "      <td>8743.816406</td>\n",
       "      <td>6333.240234</td>\n",
       "      <td>...</td>\n",
       "      <td>0</td>\n",
       "      <td>0</td>\n",
       "      <td>0.0</td>\n",
       "      <td>1</td>\n",
       "      <td>2</td>\n",
       "      <td>2</td>\n",
       "      <td>2</td>\n",
       "      <td>2</td>\n",
       "      <td>2</td>\n",
       "      <td>0</td>\n",
       "    </tr>\n",
       "    <tr>\n",
       "      <th>2540044</th>\n",
       "      <td>114</td>\n",
       "      <td>CON</td>\n",
       "      <td>6.335154</td>\n",
       "      <td>1802</td>\n",
       "      <td>2088</td>\n",
       "      <td>31</td>\n",
       "      <td>29</td>\n",
       "      <td>ftp</td>\n",
       "      <td>2204.839844</td>\n",
       "      <td>2549.582764</td>\n",
       "      <td>...</td>\n",
       "      <td>0</td>\n",
       "      <td>0</td>\n",
       "      <td>0.0</td>\n",
       "      <td>1</td>\n",
       "      <td>2</td>\n",
       "      <td>2</td>\n",
       "      <td>4</td>\n",
       "      <td>2</td>\n",
       "      <td>2</td>\n",
       "      <td>0</td>\n",
       "    </tr>\n",
       "    <tr>\n",
       "      <th>2540045</th>\n",
       "      <td>114</td>\n",
       "      <td>CON</td>\n",
       "      <td>2.200934</td>\n",
       "      <td>3498</td>\n",
       "      <td>166054</td>\n",
       "      <td>31</td>\n",
       "      <td>29</td>\n",
       "      <td>http</td>\n",
       "      <td>12496.513670</td>\n",
       "      <td>598375.062500</td>\n",
       "      <td>...</td>\n",
       "      <td>0</td>\n",
       "      <td>0</td>\n",
       "      <td>2.0</td>\n",
       "      <td>0</td>\n",
       "      <td>0</td>\n",
       "      <td>1</td>\n",
       "      <td>2</td>\n",
       "      <td>4</td>\n",
       "      <td>2</td>\n",
       "      <td>0</td>\n",
       "    </tr>\n",
       "    <tr>\n",
       "      <th>2540046</th>\n",
       "      <td>114</td>\n",
       "      <td>CON</td>\n",
       "      <td>0.942984</td>\n",
       "      <td>574</td>\n",
       "      <td>676</td>\n",
       "      <td>62</td>\n",
       "      <td>252</td>\n",
       "      <td>pop3</td>\n",
       "      <td>4470.913574</td>\n",
       "      <td>5259.898438</td>\n",
       "      <td>...</td>\n",
       "      <td>0</td>\n",
       "      <td>3</td>\n",
       "      <td>0.0</td>\n",
       "      <td>0</td>\n",
       "      <td>0</td>\n",
       "      <td>1</td>\n",
       "      <td>2</td>\n",
       "      <td>4</td>\n",
       "      <td>2</td>\n",
       "      <td>1</td>\n",
       "    </tr>\n",
       "  </tbody>\n",
       "</table>\n",
       "<p>2540047 rows × 36 columns</p>\n",
       "</div>"
      ],
      "text/plain": [
       "         proto state       dur  sbytes  dbytes  sttl  dttl   service  \\\n",
       "0          120   CON  0.001055     132     164    31    29       dns   \n",
       "1          120   CON  0.036133     528     304    31    29      None   \n",
       "2          120   CON  0.001119     146     178    31    29       dns   \n",
       "3          120   CON  0.001209     132     164    31    29       dns   \n",
       "4          120   CON  0.001169     146     178    31    29       dns   \n",
       "...        ...   ...       ...     ...     ...   ...   ...       ...   \n",
       "2540042    114   FIN  0.087306     320    1828    31    29  ftp-data   \n",
       "2540043    114   CON  0.365058     456     346    31    29       ftp   \n",
       "2540044    114   CON  6.335154    1802    2088    31    29       ftp   \n",
       "2540045    114   CON  2.200934    3498  166054    31    29      http   \n",
       "2540046    114   CON  0.942984     574     676    62   252      pop3   \n",
       "\n",
       "                 sload          dload  ...  is_sm_ips_ports  ct_state_ttl  \\\n",
       "0        500473.937500  621800.937500  ...                0             0   \n",
       "1         87676.085940   50480.171880  ...                0             0   \n",
       "2        521894.531300  636282.375000  ...                0             0   \n",
       "3        436724.562500  542597.187500  ...                0             0   \n",
       "4        499572.250000  609067.562500  ...                0             0   \n",
       "...                ...            ...  ...              ...           ...   \n",
       "2540042   24465.671880  146610.765600  ...                0             0   \n",
       "2540043    8743.816406    6333.240234  ...                0             0   \n",
       "2540044    2204.839844    2549.582764  ...                0             0   \n",
       "2540045   12496.513670  598375.062500  ...                0             0   \n",
       "2540046    4470.913574    5259.898438  ...                0             3   \n",
       "\n",
       "         ct_flw_http_mthd  is_ftp_login  ct_ftp_cmd  ct_srv_src  ct_dst_ltm  \\\n",
       "0                     0.0             0           0           3           1   \n",
       "1                     0.0             0           0           2           2   \n",
       "2                     0.0             0           0          12           1   \n",
       "3                     0.0             0           0           6           1   \n",
       "4                     0.0             0           0           7           1   \n",
       "...                   ...           ...         ...         ...         ...   \n",
       "2540042               0.0             0           0           1           3   \n",
       "2540043               0.0             1           2           2           2   \n",
       "2540044               0.0             1           2           2           4   \n",
       "2540045               2.0             0           0           1           2   \n",
       "2540046               0.0             0           0           1           2   \n",
       "\n",
       "         ct_src_ltm  ct_dst_sport_ltm  label  \n",
       "0                 3                 1      0  \n",
       "1                 3                 1      0  \n",
       "2                 2                 1      0  \n",
       "3                 1                 1      0  \n",
       "4                 1                 1      0  \n",
       "...             ...               ...    ...  \n",
       "2540042           3                 1      0  \n",
       "2540043           2                 2      0  \n",
       "2540044           2                 2      0  \n",
       "2540045           4                 2      0  \n",
       "2540046           4                 2      1  \n",
       "\n",
       "[2540047 rows x 36 columns]"
      ]
     },
     "execution_count": 45,
     "metadata": {},
     "output_type": "execute_result"
    }
   ],
   "source": [
    "dataset1"
   ]
  },
  {
   "cell_type": "code",
   "execution_count": 46,
   "metadata": {},
   "outputs": [],
   "source": [
    "dataset1['state']=dataset1.state.astype('category').cat.codes\n",
    "dataset1['service']=dataset1.service.astype('category').cat.codes"
   ]
  },
  {
   "cell_type": "code",
   "execution_count": 47,
   "metadata": {},
   "outputs": [
    {
     "data": {
      "text/html": [
       "<div>\n",
       "<style scoped>\n",
       "    .dataframe tbody tr th:only-of-type {\n",
       "        vertical-align: middle;\n",
       "    }\n",
       "\n",
       "    .dataframe tbody tr th {\n",
       "        vertical-align: top;\n",
       "    }\n",
       "\n",
       "    .dataframe thead th {\n",
       "        text-align: right;\n",
       "    }\n",
       "</style>\n",
       "<table border=\"1\" class=\"dataframe\">\n",
       "  <thead>\n",
       "    <tr style=\"text-align: right;\">\n",
       "      <th></th>\n",
       "      <th>proto</th>\n",
       "      <th>state</th>\n",
       "      <th>dur</th>\n",
       "      <th>sbytes</th>\n",
       "      <th>dbytes</th>\n",
       "      <th>sttl</th>\n",
       "      <th>dttl</th>\n",
       "      <th>service</th>\n",
       "      <th>sload</th>\n",
       "      <th>dload</th>\n",
       "      <th>...</th>\n",
       "      <th>is_sm_ips_ports</th>\n",
       "      <th>ct_state_ttl</th>\n",
       "      <th>ct_flw_http_mthd</th>\n",
       "      <th>is_ftp_login</th>\n",
       "      <th>ct_ftp_cmd</th>\n",
       "      <th>ct_srv_src</th>\n",
       "      <th>ct_dst_ltm</th>\n",
       "      <th>ct_src_ltm</th>\n",
       "      <th>ct_dst_sport_ltm</th>\n",
       "      <th>label</th>\n",
       "    </tr>\n",
       "  </thead>\n",
       "  <tbody>\n",
       "    <tr>\n",
       "      <th>0</th>\n",
       "      <td>120</td>\n",
       "      <td>2</td>\n",
       "      <td>0.001055</td>\n",
       "      <td>132</td>\n",
       "      <td>164</td>\n",
       "      <td>31</td>\n",
       "      <td>29</td>\n",
       "      <td>2</td>\n",
       "      <td>500473.937500</td>\n",
       "      <td>621800.937500</td>\n",
       "      <td>...</td>\n",
       "      <td>0</td>\n",
       "      <td>0</td>\n",
       "      <td>0.0</td>\n",
       "      <td>0</td>\n",
       "      <td>0</td>\n",
       "      <td>3</td>\n",
       "      <td>1</td>\n",
       "      <td>3</td>\n",
       "      <td>1</td>\n",
       "      <td>0</td>\n",
       "    </tr>\n",
       "    <tr>\n",
       "      <th>1</th>\n",
       "      <td>120</td>\n",
       "      <td>2</td>\n",
       "      <td>0.036133</td>\n",
       "      <td>528</td>\n",
       "      <td>304</td>\n",
       "      <td>31</td>\n",
       "      <td>29</td>\n",
       "      <td>0</td>\n",
       "      <td>87676.085940</td>\n",
       "      <td>50480.171880</td>\n",
       "      <td>...</td>\n",
       "      <td>0</td>\n",
       "      <td>0</td>\n",
       "      <td>0.0</td>\n",
       "      <td>0</td>\n",
       "      <td>0</td>\n",
       "      <td>2</td>\n",
       "      <td>2</td>\n",
       "      <td>3</td>\n",
       "      <td>1</td>\n",
       "      <td>0</td>\n",
       "    </tr>\n",
       "    <tr>\n",
       "      <th>2</th>\n",
       "      <td>120</td>\n",
       "      <td>2</td>\n",
       "      <td>0.001119</td>\n",
       "      <td>146</td>\n",
       "      <td>178</td>\n",
       "      <td>31</td>\n",
       "      <td>29</td>\n",
       "      <td>2</td>\n",
       "      <td>521894.531300</td>\n",
       "      <td>636282.375000</td>\n",
       "      <td>...</td>\n",
       "      <td>0</td>\n",
       "      <td>0</td>\n",
       "      <td>0.0</td>\n",
       "      <td>0</td>\n",
       "      <td>0</td>\n",
       "      <td>12</td>\n",
       "      <td>1</td>\n",
       "      <td>2</td>\n",
       "      <td>1</td>\n",
       "      <td>0</td>\n",
       "    </tr>\n",
       "    <tr>\n",
       "      <th>3</th>\n",
       "      <td>120</td>\n",
       "      <td>2</td>\n",
       "      <td>0.001209</td>\n",
       "      <td>132</td>\n",
       "      <td>164</td>\n",
       "      <td>31</td>\n",
       "      <td>29</td>\n",
       "      <td>2</td>\n",
       "      <td>436724.562500</td>\n",
       "      <td>542597.187500</td>\n",
       "      <td>...</td>\n",
       "      <td>0</td>\n",
       "      <td>0</td>\n",
       "      <td>0.0</td>\n",
       "      <td>0</td>\n",
       "      <td>0</td>\n",
       "      <td>6</td>\n",
       "      <td>1</td>\n",
       "      <td>1</td>\n",
       "      <td>1</td>\n",
       "      <td>0</td>\n",
       "    </tr>\n",
       "    <tr>\n",
       "      <th>4</th>\n",
       "      <td>120</td>\n",
       "      <td>2</td>\n",
       "      <td>0.001169</td>\n",
       "      <td>146</td>\n",
       "      <td>178</td>\n",
       "      <td>31</td>\n",
       "      <td>29</td>\n",
       "      <td>2</td>\n",
       "      <td>499572.250000</td>\n",
       "      <td>609067.562500</td>\n",
       "      <td>...</td>\n",
       "      <td>0</td>\n",
       "      <td>0</td>\n",
       "      <td>0.0</td>\n",
       "      <td>0</td>\n",
       "      <td>0</td>\n",
       "      <td>7</td>\n",
       "      <td>1</td>\n",
       "      <td>1</td>\n",
       "      <td>1</td>\n",
       "      <td>0</td>\n",
       "    </tr>\n",
       "    <tr>\n",
       "      <th>...</th>\n",
       "      <td>...</td>\n",
       "      <td>...</td>\n",
       "      <td>...</td>\n",
       "      <td>...</td>\n",
       "      <td>...</td>\n",
       "      <td>...</td>\n",
       "      <td>...</td>\n",
       "      <td>...</td>\n",
       "      <td>...</td>\n",
       "      <td>...</td>\n",
       "      <td>...</td>\n",
       "      <td>...</td>\n",
       "      <td>...</td>\n",
       "      <td>...</td>\n",
       "      <td>...</td>\n",
       "      <td>...</td>\n",
       "      <td>...</td>\n",
       "      <td>...</td>\n",
       "      <td>...</td>\n",
       "      <td>...</td>\n",
       "      <td>...</td>\n",
       "    </tr>\n",
       "    <tr>\n",
       "      <th>2540042</th>\n",
       "      <td>114</td>\n",
       "      <td>5</td>\n",
       "      <td>0.087306</td>\n",
       "      <td>320</td>\n",
       "      <td>1828</td>\n",
       "      <td>31</td>\n",
       "      <td>29</td>\n",
       "      <td>4</td>\n",
       "      <td>24465.671880</td>\n",
       "      <td>146610.765600</td>\n",
       "      <td>...</td>\n",
       "      <td>0</td>\n",
       "      <td>0</td>\n",
       "      <td>0.0</td>\n",
       "      <td>0</td>\n",
       "      <td>0</td>\n",
       "      <td>1</td>\n",
       "      <td>3</td>\n",
       "      <td>3</td>\n",
       "      <td>1</td>\n",
       "      <td>0</td>\n",
       "    </tr>\n",
       "    <tr>\n",
       "      <th>2540043</th>\n",
       "      <td>114</td>\n",
       "      <td>2</td>\n",
       "      <td>0.365058</td>\n",
       "      <td>456</td>\n",
       "      <td>346</td>\n",
       "      <td>31</td>\n",
       "      <td>29</td>\n",
       "      <td>3</td>\n",
       "      <td>8743.816406</td>\n",
       "      <td>6333.240234</td>\n",
       "      <td>...</td>\n",
       "      <td>0</td>\n",
       "      <td>0</td>\n",
       "      <td>0.0</td>\n",
       "      <td>1</td>\n",
       "      <td>2</td>\n",
       "      <td>2</td>\n",
       "      <td>2</td>\n",
       "      <td>2</td>\n",
       "      <td>2</td>\n",
       "      <td>0</td>\n",
       "    </tr>\n",
       "    <tr>\n",
       "      <th>2540044</th>\n",
       "      <td>114</td>\n",
       "      <td>2</td>\n",
       "      <td>6.335154</td>\n",
       "      <td>1802</td>\n",
       "      <td>2088</td>\n",
       "      <td>31</td>\n",
       "      <td>29</td>\n",
       "      <td>3</td>\n",
       "      <td>2204.839844</td>\n",
       "      <td>2549.582764</td>\n",
       "      <td>...</td>\n",
       "      <td>0</td>\n",
       "      <td>0</td>\n",
       "      <td>0.0</td>\n",
       "      <td>1</td>\n",
       "      <td>2</td>\n",
       "      <td>2</td>\n",
       "      <td>4</td>\n",
       "      <td>2</td>\n",
       "      <td>2</td>\n",
       "      <td>0</td>\n",
       "    </tr>\n",
       "    <tr>\n",
       "      <th>2540045</th>\n",
       "      <td>114</td>\n",
       "      <td>2</td>\n",
       "      <td>2.200934</td>\n",
       "      <td>3498</td>\n",
       "      <td>166054</td>\n",
       "      <td>31</td>\n",
       "      <td>29</td>\n",
       "      <td>5</td>\n",
       "      <td>12496.513670</td>\n",
       "      <td>598375.062500</td>\n",
       "      <td>...</td>\n",
       "      <td>0</td>\n",
       "      <td>0</td>\n",
       "      <td>2.0</td>\n",
       "      <td>0</td>\n",
       "      <td>0</td>\n",
       "      <td>1</td>\n",
       "      <td>2</td>\n",
       "      <td>4</td>\n",
       "      <td>2</td>\n",
       "      <td>0</td>\n",
       "    </tr>\n",
       "    <tr>\n",
       "      <th>2540046</th>\n",
       "      <td>114</td>\n",
       "      <td>2</td>\n",
       "      <td>0.942984</td>\n",
       "      <td>574</td>\n",
       "      <td>676</td>\n",
       "      <td>62</td>\n",
       "      <td>252</td>\n",
       "      <td>7</td>\n",
       "      <td>4470.913574</td>\n",
       "      <td>5259.898438</td>\n",
       "      <td>...</td>\n",
       "      <td>0</td>\n",
       "      <td>3</td>\n",
       "      <td>0.0</td>\n",
       "      <td>0</td>\n",
       "      <td>0</td>\n",
       "      <td>1</td>\n",
       "      <td>2</td>\n",
       "      <td>4</td>\n",
       "      <td>2</td>\n",
       "      <td>1</td>\n",
       "    </tr>\n",
       "  </tbody>\n",
       "</table>\n",
       "<p>2540047 rows × 36 columns</p>\n",
       "</div>"
      ],
      "text/plain": [
       "         proto  state       dur  sbytes  dbytes  sttl  dttl  service  \\\n",
       "0          120      2  0.001055     132     164    31    29        2   \n",
       "1          120      2  0.036133     528     304    31    29        0   \n",
       "2          120      2  0.001119     146     178    31    29        2   \n",
       "3          120      2  0.001209     132     164    31    29        2   \n",
       "4          120      2  0.001169     146     178    31    29        2   \n",
       "...        ...    ...       ...     ...     ...   ...   ...      ...   \n",
       "2540042    114      5  0.087306     320    1828    31    29        4   \n",
       "2540043    114      2  0.365058     456     346    31    29        3   \n",
       "2540044    114      2  6.335154    1802    2088    31    29        3   \n",
       "2540045    114      2  2.200934    3498  166054    31    29        5   \n",
       "2540046    114      2  0.942984     574     676    62   252        7   \n",
       "\n",
       "                 sload          dload  ...  is_sm_ips_ports  ct_state_ttl  \\\n",
       "0        500473.937500  621800.937500  ...                0             0   \n",
       "1         87676.085940   50480.171880  ...                0             0   \n",
       "2        521894.531300  636282.375000  ...                0             0   \n",
       "3        436724.562500  542597.187500  ...                0             0   \n",
       "4        499572.250000  609067.562500  ...                0             0   \n",
       "...                ...            ...  ...              ...           ...   \n",
       "2540042   24465.671880  146610.765600  ...                0             0   \n",
       "2540043    8743.816406    6333.240234  ...                0             0   \n",
       "2540044    2204.839844    2549.582764  ...                0             0   \n",
       "2540045   12496.513670  598375.062500  ...                0             0   \n",
       "2540046    4470.913574    5259.898438  ...                0             3   \n",
       "\n",
       "         ct_flw_http_mthd  is_ftp_login  ct_ftp_cmd  ct_srv_src  ct_dst_ltm  \\\n",
       "0                     0.0             0           0           3           1   \n",
       "1                     0.0             0           0           2           2   \n",
       "2                     0.0             0           0          12           1   \n",
       "3                     0.0             0           0           6           1   \n",
       "4                     0.0             0           0           7           1   \n",
       "...                   ...           ...         ...         ...         ...   \n",
       "2540042               0.0             0           0           1           3   \n",
       "2540043               0.0             1           2           2           2   \n",
       "2540044               0.0             1           2           2           4   \n",
       "2540045               2.0             0           0           1           2   \n",
       "2540046               0.0             0           0           1           2   \n",
       "\n",
       "         ct_src_ltm  ct_dst_sport_ltm  label  \n",
       "0                 3                 1      0  \n",
       "1                 3                 1      0  \n",
       "2                 2                 1      0  \n",
       "3                 1                 1      0  \n",
       "4                 1                 1      0  \n",
       "...             ...               ...    ...  \n",
       "2540042           3                 1      0  \n",
       "2540043           2                 2      0  \n",
       "2540044           2                 2      0  \n",
       "2540045           4                 2      0  \n",
       "2540046           4                 2      1  \n",
       "\n",
       "[2540047 rows x 36 columns]"
      ]
     },
     "execution_count": 47,
     "metadata": {},
     "output_type": "execute_result"
    }
   ],
   "source": [
    "dataset1"
   ]
  },
  {
   "cell_type": "markdown",
   "metadata": {},
   "source": [
    "### Changing encoding of label"
   ]
  },
  {
   "cell_type": "code",
   "execution_count": 48,
   "metadata": {},
   "outputs": [
    {
     "data": {
      "text/plain": [
       "<bound method Series.unique of 0          1\n",
       "1          1\n",
       "2          1\n",
       "3          1\n",
       "4          1\n",
       "          ..\n",
       "2540042    1\n",
       "2540043    1\n",
       "2540044    1\n",
       "2540045    1\n",
       "2540046   -1\n",
       "Name: label, Length: 2540047, dtype: int64>"
      ]
     },
     "execution_count": 48,
     "metadata": {},
     "output_type": "execute_result"
    }
   ],
   "source": [
    "dataset1['label'] = dataset1['label'].replace([1],-1)\n",
    "dataset1['label'] = dataset1['label'].replace([0],1)\n",
    "dataset1.label.unique"
   ]
  },
  {
   "cell_type": "markdown",
   "metadata": {},
   "source": [
    "A label of 1 would mean the record is normal and -1 would mean the record is of an attack."
   ]
  },
  {
   "cell_type": "code",
   "execution_count": 49,
   "metadata": {},
   "outputs": [
    {
     "data": {
      "text/plain": [
       " 1    2218764\n",
       "-1     321283\n",
       "Name: label, dtype: int64"
      ]
     },
     "execution_count": 49,
     "metadata": {},
     "output_type": "execute_result"
    }
   ],
   "source": [
    "dataset1.label.value_counts()"
   ]
  },
  {
   "cell_type": "markdown",
   "metadata": {},
   "source": [
    "### Data standardizing and Train - Test split"
   ]
  },
  {
   "cell_type": "code",
   "execution_count": 50,
   "metadata": {},
   "outputs": [],
   "source": [
    "X = dataset1.drop('label', axis='columns')\n",
    "\n",
    "# Standardized\n",
    "scaler = MinMaxScaler()\n",
    "X_data = X.values\n",
    "X_scaled = scaler.fit_transform(X_data)\n",
    "X = X_scaled\n",
    "\n",
    "y = dataset1['label']\n",
    "X_train, X_test, y_train, y_test = train_test_split(X, y, test_size=0.30, random_state=140)"
   ]
  },
  {
   "cell_type": "code",
   "execution_count": 51,
   "metadata": {
    "scrolled": true
   },
   "outputs": [
    {
     "data": {
      "text/plain": [
       "array([[8.95522388e-01, 1.33333333e-01, 1.20068681e-07, ...,\n",
       "        0.00000000e+00, 3.03030303e-02, 0.00000000e+00],\n",
       "       [8.95522388e-01, 1.33333333e-01, 4.11226697e-06, ...,\n",
       "        1.51515152e-02, 3.03030303e-02, 0.00000000e+00],\n",
       "       [8.95522388e-01, 1.33333333e-01, 1.27352468e-07, ...,\n",
       "        0.00000000e+00, 1.51515152e-02, 0.00000000e+00],\n",
       "       ...,\n",
       "       [8.50746269e-01, 1.33333333e-01, 7.20998660e-04, ...,\n",
       "        4.54545455e-02, 1.51515152e-02, 1.69491525e-02],\n",
       "       [8.50746269e-01, 1.33333333e-01, 2.50486486e-04, ...,\n",
       "        1.51515152e-02, 4.54545455e-02, 1.69491525e-02],\n",
       "       [8.50746269e-01, 1.33333333e-01, 1.07320232e-04, ...,\n",
       "        1.51515152e-02, 4.54545455e-02, 1.69491525e-02]])"
      ]
     },
     "execution_count": 51,
     "metadata": {},
     "output_type": "execute_result"
    }
   ],
   "source": [
    "X"
   ]
  },
  {
   "cell_type": "markdown",
   "metadata": {},
   "source": [
    "The label data is separated from the feature data. The feature data is then standardized so that all the values lie between 0 and 1. This aids the classifiers in comparing the data of each feature column and making more accurate predictions. The data is then split with 30% of the data being set aside for testing."
   ]
  },
  {
   "cell_type": "code",
   "execution_count": 52,
   "metadata": {},
   "outputs": [
    {
     "name": "stdout",
     "output_type": "stream",
     "text": [
      "(1778032, 35) (1778032,)\n",
      "\n",
      "(762015, 35) (762015,)\n"
     ]
    }
   ],
   "source": [
    "print(X_train.shape, y_train.shape)\n",
    "print()\n",
    "print(X_test.shape, y_test.shape)"
   ]
  },
  {
   "cell_type": "markdown",
   "metadata": {},
   "source": [
    "## Building Classifiers:"
   ]
  },
  {
   "cell_type": "markdown",
   "metadata": {},
   "source": [
    "### Decision Tree"
   ]
  },
  {
   "cell_type": "code",
   "execution_count": 62,
   "metadata": {},
   "outputs": [
    {
     "name": "stdout",
     "output_type": "stream",
     "text": [
      "The Score of the Decision Tree Classifier is 99.46693962717269\n",
      "Execution time in sec : 20.78051233291626\n"
     ]
    }
   ],
   "source": [
    "startTime = time.time()\n",
    "\n",
    "dt = DecisionTreeClassifier()\n",
    "\n",
    "dt.fit(X_train,y_train)\n",
    "Prediction = dt.predict(X_test)\n",
    "Score = dt.score(X_test,y_test)\n",
    "print (\"The Score of the Decision Tree Classifier is\", Score * 100)\n",
    "\n",
    "executionTime = (time.time() - startTime)\n",
    "print('Execution time in sec : ' + str(executionTime))"
   ]
  },
  {
   "cell_type": "code",
   "execution_count": 63,
   "metadata": {},
   "outputs": [
    {
     "name": "stdout",
     "output_type": "stream",
     "text": [
      "              precision    recall  f1-score   support\n",
      "\n",
      "          -1       0.98      0.98      0.98     96751\n",
      "           1       1.00      1.00      1.00    665264\n",
      "\n",
      "    accuracy                           0.99    762015\n",
      "   macro avg       0.99      0.99      0.99    762015\n",
      "weighted avg       0.99      0.99      0.99    762015\n",
      "\n",
      "[[ 94668   2083]\n",
      " [  1979 663285]]\n"
     ]
    }
   ],
   "source": [
    "from sklearn.metrics import classification_report, confusion_matrix\n",
    "print(classification_report(y_test, Prediction))\n",
    "\n",
    "print(confusion_matrix(y_test, Prediction))"
   ]
  },
  {
   "cell_type": "markdown",
   "metadata": {},
   "source": [
    "The accuracy of the Decision Tree classifier is very good with 99.5% of the data correctly classifed. The recall, precision and f1-score for attack data all came out to be very high (98%) as well, which shows that the model performs really well in detecting intrusions to networks. The execution time is reasonably low, taking around 21 seconds to run."
   ]
  },
  {
   "cell_type": "markdown",
   "metadata": {},
   "source": [
    "### Logistic Regression"
   ]
  },
  {
   "cell_type": "code",
   "execution_count": 64,
   "metadata": {},
   "outputs": [
    {
     "name": "stdout",
     "output_type": "stream",
     "text": [
      "Logistic Regression score:  98.81524641903374\n",
      "Execution time in sec : 47.84714961051941\n"
     ]
    }
   ],
   "source": [
    "startTime = time.time()\n",
    "\n",
    "# Logistic Regression\n",
    "lr = LogisticRegression(C=10000)\n",
    "lr.fit(X_train,y_train)\n",
    "Prediction = lr.predict(X_test)\n",
    "\n",
    "# Find and print the score\n",
    "Score = lr.score(X_test, y_test)\n",
    "print(\"Logistic Regression score: \", Score * 100)\n",
    "\n",
    "executionTime = (time.time() - startTime)\n",
    "print('Execution time in sec : ' + str(executionTime))"
   ]
  },
  {
   "cell_type": "code",
   "execution_count": 65,
   "metadata": {},
   "outputs": [
    {
     "name": "stdout",
     "output_type": "stream",
     "text": [
      "              precision    recall  f1-score   support\n",
      "\n",
      "          -1       0.94      0.97      0.95     96751\n",
      "           1       1.00      0.99      0.99    665264\n",
      "\n",
      "    accuracy                           0.99    762015\n",
      "   macro avg       0.97      0.98      0.97    762015\n",
      "weighted avg       0.99      0.99      0.99    762015\n",
      "\n",
      "[[ 94047   2704]\n",
      " [  6324 658940]]\n"
     ]
    }
   ],
   "source": [
    "from sklearn.metrics import classification_report, confusion_matrix\n",
    "print(classification_report(y_test, Prediction))\n",
    "\n",
    "print(confusion_matrix(y_test, Prediction))"
   ]
  },
  {
   "cell_type": "markdown",
   "metadata": {},
   "source": [
    "The Logistic Regression classifier had an accuracy of 99%, however the precision, recall and f1-score for the attack data (94%, 97%, 95% respectively) were all slighly worse than the Decision tree classifier. The execution time was significantly higher, taking about 48 seconds to run."
   ]
  },
  {
   "cell_type": "markdown",
   "metadata": {},
   "source": [
    "### Gaussian Naive Bayes"
   ]
  },
  {
   "cell_type": "code",
   "execution_count": 82,
   "metadata": {},
   "outputs": [
    {
     "name": "stdout",
     "output_type": "stream",
     "text": [
      "The Score of the Gaussian Naive Bayes classifier is 90.1340524792819\n",
      "Execution time in sec : 4.00256085395813\n"
     ]
    }
   ],
   "source": [
    "startTime = time.time()\n",
    "\n",
    "gnb = GaussianNB()\n",
    "gnb.fit(X_train,y_train)\n",
    "Prediction = gnb.predict(X_test)\n",
    "\n",
    "# Find and print the score\n",
    "Score = gnb.score(X_test,y_test)\n",
    "print(\"The Score of the Gaussian Naive Bayes classifier is\", Score * 100)\n",
    "\n",
    "executionTime = (time.time() - startTime)\n",
    "print('Execution time in sec : ' + str(executionTime))"
   ]
  },
  {
   "cell_type": "code",
   "execution_count": 83,
   "metadata": {},
   "outputs": [
    {
     "name": "stdout",
     "output_type": "stream",
     "text": [
      "              precision    recall  f1-score   support\n",
      "\n",
      "          -1       0.56      0.99      0.72     96751\n",
      "           1       1.00      0.89      0.94    665264\n",
      "\n",
      "    accuracy                           0.90    762015\n",
      "   macro avg       0.78      0.94      0.83    762015\n",
      "weighted avg       0.94      0.90      0.91    762015\n",
      "\n",
      "[[ 95309   1442]\n",
      " [ 73738 591526]]\n"
     ]
    }
   ],
   "source": [
    "from sklearn.metrics import classification_report, confusion_matrix\n",
    "print(classification_report(y_test, Prediction))\n",
    "\n",
    "print(confusion_matrix(y_test, Prediction))"
   ]
  },
  {
   "cell_type": "markdown",
   "metadata": {},
   "source": [
    "The accuracy of the Gaussian Naive Bayes Classifier is much lower than the other classifiers, but is still 90%, which shows that it is performing pretty well. The precision for the attack data is significantly lower than the other classifiers with 56%. However, the recall value of the attack data for this classifier is the best among the others, with 99%. The excution time is the lowest, taking about 4 seconds to run."
   ]
  },
  {
   "cell_type": "markdown",
   "metadata": {},
   "source": [
    "### RandomForest"
   ]
  },
  {
   "cell_type": "code",
   "execution_count": 106,
   "metadata": {},
   "outputs": [
    {
     "name": "stdout",
     "output_type": "stream",
     "text": [
      "Accuracy in RandomForest: 0.9950893355117681\n",
      "Execution time in secs : 301.89126420021057\n"
     ]
    }
   ],
   "source": [
    "startTime = time.time()\n",
    "\n",
    "#Create an RF Classifier\n",
    "clf=RandomForestClassifier(n_estimators=150)\n",
    "\n",
    "#Train the model using the training sets\n",
    "clf.fit(X_train,y_train)\n",
    "\n",
    "\n",
    "# prediction on test set\n",
    "y_pred=clf.predict(X_test)\n",
    "\n",
    "# Model Accuracy, how often is the classifier correct?\n",
    "print(\"Accuracy in RandomForest:\",metrics.accuracy_score(y_test, y_pred))\n",
    "\n",
    "executionTime = (time.time() - startTime)\n",
    "print('Execution time in secs : ' + str(executionTime))\n"
   ]
  },
  {
   "cell_type": "code",
   "execution_count": 107,
   "metadata": {},
   "outputs": [
    {
     "name": "stdout",
     "output_type": "stream",
     "text": [
      "              precision    recall  f1-score   support\n",
      "\n",
      "          -1       0.98      0.98      0.98     96751\n",
      "           1       1.00      1.00      1.00    665264\n",
      "\n",
      "    accuracy                           1.00    762015\n",
      "   macro avg       0.99      0.99      0.99    762015\n",
      "weighted avg       1.00      1.00      1.00    762015\n",
      "\n",
      "[[ 94724   2027]\n",
      " [  1715 663549]]\n"
     ]
    }
   ],
   "source": [
    "print(classification_report(y_test, y_pred))\n",
    "\n",
    "print(confusion_matrix(y_test, y_pred))"
   ]
  },
  {
   "cell_type": "markdown",
   "metadata": {},
   "source": [
    "The accuracy of the Random Forest Classifier is the highest among the other classifers with 99.5%. The precision, recall and f1-score values for attack data are reasonably high as well, with 98% each. However, the execution time was the highest, taking around 302 seconds to run."
   ]
  },
  {
   "cell_type": "markdown",
   "metadata": {},
   "source": [
    "#### Analysis of Classification models"
   ]
  },
  {
   "cell_type": "markdown",
   "metadata": {},
   "source": [
    "Choosing the best classifier in the case of detecting network intrusions, the one with the highest recall value should be considered over the ones with higher precision. This is because precision shows the proportion of correctly predicted attacks with respect to the number of falsely predicted normals. A lower precision in this case would mean that the Network Intrusion Detection System (NIDS) is labelling most of the supicious data as attacks, even when they are not. It is a false alarm and is an inconvenience at best. On the other hand, recall is the proportion of correctly predicted network attacks with respect to the number of false predicted attacks. A lower recall would mean that the NIDS is failing to identify attacks correctly and labelling more attacks as being normal requests to access the network. This is worse and is potentially more dangerous for networks. Even though the Random Forest Classifier is performing the most accurate classification of the dataset, and is being more precise, Gaussian Niave Bayes is the best choice for building a NIDS, as it is the most successful classifier in identifying attacks correctly and has the lowest False Negative rate."
   ]
  },
  {
   "cell_type": "markdown",
   "metadata": {},
   "source": [
    "## Anomaly Detection:"
   ]
  },
  {
   "cell_type": "code",
   "execution_count": 53,
   "metadata": {},
   "outputs": [
    {
     "name": "stdout",
     "output_type": "stream",
     "text": [
      "\n",
      " Anomaly rate: 0.126487 \n",
      "\n"
     ]
    }
   ],
   "source": [
    "#Checking the anomaly rate of the dataset\n",
    "print('\\n Anomaly rate: %f \\n' % (-1.0*(y-1).sum()/2.0/X.shape[0]))"
   ]
  },
  {
   "cell_type": "markdown",
   "metadata": {},
   "source": [
    "### IsolationForest "
   ]
  },
  {
   "cell_type": "markdown",
   "metadata": {},
   "source": [
    "Masks are created to filter the dataset by whether or not the observation belongs to normal or attack class.\n",
    "Then it is isolated and only normal training data is used for fitting the models.\n"
   ]
  },
  {
   "cell_type": "code",
   "execution_count": 54,
   "metadata": {},
   "outputs": [],
   "source": [
    "train_normal = y_train== 1 #normal class\n",
    "train_at = y_train== -1 #attack class"
   ]
  },
  {
   "cell_type": "markdown",
   "metadata": {},
   "source": [
    "#### Hyperparameter Tuning"
   ]
  },
  {
   "cell_type": "code",
   "execution_count": 68,
   "metadata": {},
   "outputs": [
    {
     "name": "stdout",
     "output_type": "stream",
     "text": [
      "Prediction_AUC Scores:  [0.8803420577698835, 0.8078562652818052, 0.9136154170675806, 0.7142122120784599, 0.71931120799938, 0.6417623472843088, 0.6207690905755231, 0.60148185399476, 0.5701915810104834, 0.5841954170012147]\n",
      "Execution time in sec : 1818.9528217315674\n"
     ]
    }
   ],
   "source": [
    "startTime = time.time()\n",
    "\n",
    "# Trying different sample size ('max_samples' parameter) for iforest to identify a good one. Plot the relationship for the size from 2**5 to 2**14 with an exponential step 2**i.\n",
    "\n",
    "auc_scores = []\n",
    "sample_sizes = []\n",
    "for i in range(5, 15):\n",
    "    sample_sizes.append(2**i)\n",
    "    detector_if = IsolationForest(max_samples=2**i,random_state=1)\n",
    "    detector_if.fit(X_train[train_normal])\n",
    "    \n",
    "    y_train_pred = detector_if.predict(X_train)\n",
    "    y_test_pred = detector_if.predict(X_test)\n",
    "\n",
    "    # Predicting the Yes/No label\n",
    "    auc = roc_auc_score(y_test, y_test_pred)\n",
    "    \n",
    "    auc_scores.append(auc)\n",
    "\n",
    "print('Prediction_AUC Scores: ', auc_scores)\n",
    "\n",
    "\n",
    "executionTime = (time.time() - startTime)\n",
    "print('Execution time in sec : ' + str(executionTime))"
   ]
  },
  {
   "cell_type": "code",
   "execution_count": 59,
   "metadata": {},
   "outputs": [
    {
     "data": {
      "image/png": "[encoded data removed]",
      "text/plain": [
       "<Figure size 432x288 with 1 Axes>"
      ]
     },
     "metadata": {
      "needs_background": "light"
     },
     "output_type": "display_data"
    }
   ],
   "source": [
    "auc_scores =[0.8803420577698835, 0.8078562652818052, 0.9136154170675806, 0.7142122120784599, 0.71931120799938, 0.6417623472843088, 0.6207690905755231, 0.60148185399476, 0.5701915810104834, 0.5841954170012147]\n",
    "# Plot the relationship between auc and max_samples\n",
    "plt.plot(range(5,15), auc_scores, marker='x')\n",
    "plt.xlabel('max_samples')\n",
    "plt.ylabel('AUC')\n",
    "plt.show()"
   ]
  },
  {
   "cell_type": "markdown",
   "metadata": {},
   "source": [
    "#### Evaluating AUC and Execution time"
   ]
  },
  {
   "cell_type": "code",
   "execution_count": 69,
   "metadata": {},
   "outputs": [
    {
     "name": "stdout",
     "output_type": "stream",
     "text": [
      "Prediction_AUC Score:  0.9136154170675806\n",
      "\n",
      "Evaluation_AUC Score:  0.9529728363117199\n",
      "Execution time in sec : 230.11228704452515\n"
     ]
    }
   ],
   "source": [
    "#Training on normal data\n",
    "startTime = time.time()\n",
    "\n",
    "ilf = IsolationForest(max_samples= 128 ,random_state=1)\n",
    "ilf.fit(X_train[train_normal])\n",
    "\n",
    "y_train_pred = ilf.predict(X_train)\n",
    "y_test_pred = ilf.predict(X_test)\n",
    "\n",
    "\n",
    "# Evaluating using AUC (Area Under Curve)\n",
    "y_score = ilf.decision_function(X_train)\n",
    "print('Evaluation_AUC Score: ', roc_auc_score(y_train, y_score))\n",
    "\n",
    "\n",
    "executionTime = (time.time() - startTime)\n",
    "print('Execution time in sec : ' + str(executionTime))"
   ]
  },
  {
   "cell_type": "markdown",
   "metadata": {},
   "source": [
    "The conventional way is also explored here by using full training data for training purpose."
   ]
  },
  {
   "cell_type": "code",
   "execution_count": 70,
   "metadata": {},
   "outputs": [
    {
     "name": "stdout",
     "output_type": "stream",
     "text": [
      "Prediction_AUC Score:  0.5964908493632628\n",
      "\n",
      "Evaluation_AUC Score:  0.8452938285899192\n",
      "Execution time in sec : 158.88471341133118\n"
     ]
    }
   ],
   "source": [
    "#Training on full data\n",
    "startTime = time.time()\n",
    "\n",
    "ilf1 = IsolationForest(max_samples= 128 ,random_state=1)\n",
    "ilf1.fit(X_train)\n",
    "\n",
    "y1_test_pred = ilf1.predict(X_test)\n",
    "\n",
    "# Predicting the Yes/No label\n",
    "print('Prediction_AUC Score: ', roc_auc_score(y_test, y1_test_pred))\n",
    "print()\n",
    "\n",
    "# Evaluating using AUC (Area Under Curve)\n",
    "y1_score = ilf1.decision_function(X_train)\n",
    "print('Evaluation_AUC Score: ', roc_auc_score(y_train, y1_score))\n",
    "\n",
    "executionTime = (time.time() - startTime)\n",
    "print('Execution time in sec : ' + str(executionTime))"
   ]
  },
  {
   "cell_type": "markdown",
   "metadata": {},
   "source": [
    "#### Analysis "
   ]
  },
  {
   "cell_type": "markdown",
   "metadata": {},
   "source": [
    "It can be seen from the results that the AUC Score of Anomaly detection is better while the training was done with normal data. Though the execution time was also a bit less for the latter one, the AUC score was much higher. \n",
    "For the first model, the dataset is trained with normal data, and then the profile is built for checking what normal instances should look like. That information is then further used for prediction on unseen data based on the previously established boundary.\n",
    "Therefore the first model is more efficient."
   ]
  },
  {
   "cell_type": "markdown",
   "metadata": {},
   "source": [
    "### LocalOutlierFactor"
   ]
  },
  {
   "cell_type": "markdown",
   "metadata": {},
   "source": [
    "LOF detection model was considered after Isolation Forest as an anomaly detection model. But it took too long to execute everytime it was attempted. Tried to execute the code for ~7 hours, but the execution could not be completed."
   ]
  },
  {
   "cell_type": "code",
   "execution_count": null,
   "metadata": {},
   "outputs": [],
   "source": [
    "'''\n",
    "startTime = time.time()\n",
    "#Tuning\n",
    "#Try different values of k ('n_neighbors' parameter) for LOF to identify a good one. Plot the relationship for k changing from 5 to 50 with 5 as the step.\n",
    "\n",
    "auc2_scores = []\n",
    "for i in range(1, 20, 5):\n",
    "    detector_lof = LocalOutlierFactor(n_neighbors=i, novelty=True)\n",
    "    detector_lof.fit(X_train[train_normal])\n",
    "    y2_score = detector_lof.decision_function(X_train)\n",
    "    auc2 = roc_auc_score(y_train, y2_score)\n",
    "    auc2_scores.append(auc2)\n",
    "\n",
    "print('Evaluation_AUC Scores: ', auc2_scores)\n",
    "\n",
    "executionTime = (time.time() - startTime)\n",
    "print('Execution time in sec : ' + str(executionTime))\n",
    "\n",
    "'''"
   ]
  },
  {
   "cell_type": "code",
   "execution_count": null,
   "metadata": {},
   "outputs": [],
   "source": [
    "'''\n",
    "startTime = time.time()\n",
    "\n",
    "# Create the LOF model. Note here we need to set 'novelty' parameter as 'True' to get LOF scores\n",
    "lof = LocalOutlierFactor(n_neighbors=15, novelty=True)\n",
    "\n",
    "# Train the model (Compute the LOF scores)\n",
    "lof.fit(X_train[train_normal])\n",
    "\n",
    "# Obtain anomaly score (Note that this is not the yes/no prediction as we don't know the threshold)\n",
    "y_score = lof.decision_function(X_train)\n",
    "\n",
    "#y_pred_test = lof.predict(X_test)\n",
    "\n",
    "# Evaluate using AUC (Area Under Curve)\n",
    "print('Evaluation_AUC Score: ', roc_auc_score(y_train, y_score))\n",
    "\n",
    "\n",
    "executionTime = (time.time() - startTime)\n",
    "print('Execution time for in secs : ' + str(executionTime))\n",
    "\n",
    "'''"
   ]
  },
  {
   "cell_type": "markdown",
   "metadata": {},
   "source": [
    "As implementing LOF over the entire dataset seemed quite impossible, we randomly took 20% of the dataset to perform anomaly detection, specially for the purpose of comparison between the models."
   ]
  },
  {
   "cell_type": "markdown",
   "metadata": {},
   "source": [
    "### Creating dataset with 20% data of the entire dataset "
   ]
  },
  {
   "cell_type": "code",
   "execution_count": 91,
   "metadata": {},
   "outputs": [
    {
     "data": {
      "text/html": [
       "<div>\n",
       "<style scoped>\n",
       "    .dataframe tbody tr th:only-of-type {\n",
       "        vertical-align: middle;\n",
       "    }\n",
       "\n",
       "    .dataframe tbody tr th {\n",
       "        vertical-align: top;\n",
       "    }\n",
       "\n",
       "    .dataframe thead th {\n",
       "        text-align: right;\n",
       "    }\n",
       "</style>\n",
       "<table border=\"1\" class=\"dataframe\">\n",
       "  <thead>\n",
       "    <tr style=\"text-align: right;\">\n",
       "      <th></th>\n",
       "      <th>proto</th>\n",
       "      <th>state</th>\n",
       "      <th>dur</th>\n",
       "      <th>sbytes</th>\n",
       "      <th>dbytes</th>\n",
       "      <th>sttl</th>\n",
       "      <th>dttl</th>\n",
       "      <th>service</th>\n",
       "      <th>sload</th>\n",
       "      <th>dload</th>\n",
       "      <th>...</th>\n",
       "      <th>is_sm_ips_ports</th>\n",
       "      <th>ct_state_ttl</th>\n",
       "      <th>ct_flw_http_mthd</th>\n",
       "      <th>is_ftp_login</th>\n",
       "      <th>ct_ftp_cmd</th>\n",
       "      <th>ct_srv_src</th>\n",
       "      <th>ct_dst_ltm</th>\n",
       "      <th>ct_src_ltm</th>\n",
       "      <th>ct_dst_sport_ltm</th>\n",
       "      <th>label</th>\n",
       "    </tr>\n",
       "  </thead>\n",
       "  <tbody>\n",
       "    <tr>\n",
       "      <th>0</th>\n",
       "      <td>120</td>\n",
       "      <td>2</td>\n",
       "      <td>0.001055</td>\n",
       "      <td>132</td>\n",
       "      <td>164</td>\n",
       "      <td>31</td>\n",
       "      <td>29</td>\n",
       "      <td>2</td>\n",
       "      <td>500473.93750</td>\n",
       "      <td>621800.93750</td>\n",
       "      <td>...</td>\n",
       "      <td>0</td>\n",
       "      <td>0</td>\n",
       "      <td>0.0</td>\n",
       "      <td>0</td>\n",
       "      <td>0</td>\n",
       "      <td>3</td>\n",
       "      <td>1</td>\n",
       "      <td>3</td>\n",
       "      <td>1</td>\n",
       "      <td>1</td>\n",
       "    </tr>\n",
       "    <tr>\n",
       "      <th>1</th>\n",
       "      <td>120</td>\n",
       "      <td>2</td>\n",
       "      <td>0.036133</td>\n",
       "      <td>528</td>\n",
       "      <td>304</td>\n",
       "      <td>31</td>\n",
       "      <td>29</td>\n",
       "      <td>0</td>\n",
       "      <td>87676.08594</td>\n",
       "      <td>50480.17188</td>\n",
       "      <td>...</td>\n",
       "      <td>0</td>\n",
       "      <td>0</td>\n",
       "      <td>0.0</td>\n",
       "      <td>0</td>\n",
       "      <td>0</td>\n",
       "      <td>2</td>\n",
       "      <td>2</td>\n",
       "      <td>3</td>\n",
       "      <td>1</td>\n",
       "      <td>1</td>\n",
       "    </tr>\n",
       "    <tr>\n",
       "      <th>2</th>\n",
       "      <td>120</td>\n",
       "      <td>2</td>\n",
       "      <td>0.001119</td>\n",
       "      <td>146</td>\n",
       "      <td>178</td>\n",
       "      <td>31</td>\n",
       "      <td>29</td>\n",
       "      <td>2</td>\n",
       "      <td>521894.53130</td>\n",
       "      <td>636282.37500</td>\n",
       "      <td>...</td>\n",
       "      <td>0</td>\n",
       "      <td>0</td>\n",
       "      <td>0.0</td>\n",
       "      <td>0</td>\n",
       "      <td>0</td>\n",
       "      <td>12</td>\n",
       "      <td>1</td>\n",
       "      <td>2</td>\n",
       "      <td>1</td>\n",
       "      <td>1</td>\n",
       "    </tr>\n",
       "    <tr>\n",
       "      <th>3</th>\n",
       "      <td>120</td>\n",
       "      <td>2</td>\n",
       "      <td>0.001209</td>\n",
       "      <td>132</td>\n",
       "      <td>164</td>\n",
       "      <td>31</td>\n",
       "      <td>29</td>\n",
       "      <td>2</td>\n",
       "      <td>436724.56250</td>\n",
       "      <td>542597.18750</td>\n",
       "      <td>...</td>\n",
       "      <td>0</td>\n",
       "      <td>0</td>\n",
       "      <td>0.0</td>\n",
       "      <td>0</td>\n",
       "      <td>0</td>\n",
       "      <td>6</td>\n",
       "      <td>1</td>\n",
       "      <td>1</td>\n",
       "      <td>1</td>\n",
       "      <td>1</td>\n",
       "    </tr>\n",
       "    <tr>\n",
       "      <th>4</th>\n",
       "      <td>120</td>\n",
       "      <td>2</td>\n",
       "      <td>0.001169</td>\n",
       "      <td>146</td>\n",
       "      <td>178</td>\n",
       "      <td>31</td>\n",
       "      <td>29</td>\n",
       "      <td>2</td>\n",
       "      <td>499572.25000</td>\n",
       "      <td>609067.56250</td>\n",
       "      <td>...</td>\n",
       "      <td>0</td>\n",
       "      <td>0</td>\n",
       "      <td>0.0</td>\n",
       "      <td>0</td>\n",
       "      <td>0</td>\n",
       "      <td>7</td>\n",
       "      <td>1</td>\n",
       "      <td>1</td>\n",
       "      <td>1</td>\n",
       "      <td>1</td>\n",
       "    </tr>\n",
       "  </tbody>\n",
       "</table>\n",
       "<p>5 rows × 36 columns</p>\n",
       "</div>"
      ],
      "text/plain": [
       "   proto  state       dur  sbytes  dbytes  sttl  dttl  service         sload  \\\n",
       "0    120      2  0.001055     132     164    31    29        2  500473.93750   \n",
       "1    120      2  0.036133     528     304    31    29        0   87676.08594   \n",
       "2    120      2  0.001119     146     178    31    29        2  521894.53130   \n",
       "3    120      2  0.001209     132     164    31    29        2  436724.56250   \n",
       "4    120      2  0.001169     146     178    31    29        2  499572.25000   \n",
       "\n",
       "          dload  ...  is_sm_ips_ports  ct_state_ttl  ct_flw_http_mthd  \\\n",
       "0  621800.93750  ...                0             0               0.0   \n",
       "1   50480.17188  ...                0             0               0.0   \n",
       "2  636282.37500  ...                0             0               0.0   \n",
       "3  542597.18750  ...                0             0               0.0   \n",
       "4  609067.56250  ...                0             0               0.0   \n",
       "\n",
       "   is_ftp_login  ct_ftp_cmd  ct_srv_src  ct_dst_ltm  ct_src_ltm  \\\n",
       "0             0           0           3           1           3   \n",
       "1             0           0           2           2           3   \n",
       "2             0           0          12           1           2   \n",
       "3             0           0           6           1           1   \n",
       "4             0           0           7           1           1   \n",
       "\n",
       "   ct_dst_sport_ltm  label  \n",
       "0                 1      1  \n",
       "1                 1      1  \n",
       "2                 1      1  \n",
       "3                 1      1  \n",
       "4                 1      1  \n",
       "\n",
       "[5 rows x 36 columns]"
      ]
     },
     "execution_count": 91,
     "metadata": {},
     "output_type": "execute_result"
    }
   ],
   "source": [
    "dataset1.head()"
   ]
  },
  {
   "cell_type": "code",
   "execution_count": 92,
   "metadata": {},
   "outputs": [],
   "source": [
    "data_part=dataset1.sample(frac=0.02, replace=True, random_state=1)"
   ]
  },
  {
   "cell_type": "code",
   "execution_count": 93,
   "metadata": {},
   "outputs": [
    {
     "data": {
      "text/html": [
       "<div>\n",
       "<style scoped>\n",
       "    .dataframe tbody tr th:only-of-type {\n",
       "        vertical-align: middle;\n",
       "    }\n",
       "\n",
       "    .dataframe tbody tr th {\n",
       "        vertical-align: top;\n",
       "    }\n",
       "\n",
       "    .dataframe thead th {\n",
       "        text-align: right;\n",
       "    }\n",
       "</style>\n",
       "<table border=\"1\" class=\"dataframe\">\n",
       "  <thead>\n",
       "    <tr style=\"text-align: right;\">\n",
       "      <th></th>\n",
       "      <th>proto</th>\n",
       "      <th>state</th>\n",
       "      <th>dur</th>\n",
       "      <th>sbytes</th>\n",
       "      <th>dbytes</th>\n",
       "      <th>sttl</th>\n",
       "      <th>dttl</th>\n",
       "      <th>service</th>\n",
       "      <th>sload</th>\n",
       "      <th>dload</th>\n",
       "      <th>...</th>\n",
       "      <th>is_sm_ips_ports</th>\n",
       "      <th>ct_state_ttl</th>\n",
       "      <th>ct_flw_http_mthd</th>\n",
       "      <th>is_ftp_login</th>\n",
       "      <th>ct_ftp_cmd</th>\n",
       "      <th>ct_srv_src</th>\n",
       "      <th>ct_dst_ltm</th>\n",
       "      <th>ct_src_ltm</th>\n",
       "      <th>ct_dst_sport_ltm</th>\n",
       "      <th>label</th>\n",
       "    </tr>\n",
       "  </thead>\n",
       "  <tbody>\n",
       "    <tr>\n",
       "      <th>128037</th>\n",
       "      <td>114</td>\n",
       "      <td>5</td>\n",
       "      <td>0.141949</td>\n",
       "      <td>9608</td>\n",
       "      <td>12194</td>\n",
       "      <td>31</td>\n",
       "      <td>29</td>\n",
       "      <td>11</td>\n",
       "      <td>5.365871e+05</td>\n",
       "      <td>6.811461e+05</td>\n",
       "      <td>...</td>\n",
       "      <td>0</td>\n",
       "      <td>0</td>\n",
       "      <td>0.0</td>\n",
       "      <td>0</td>\n",
       "      <td>0</td>\n",
       "      <td>1</td>\n",
       "      <td>1</td>\n",
       "      <td>2</td>\n",
       "      <td>1</td>\n",
       "      <td>1</td>\n",
       "    </tr>\n",
       "    <tr>\n",
       "      <th>491755</th>\n",
       "      <td>114</td>\n",
       "      <td>5</td>\n",
       "      <td>0.193172</td>\n",
       "      <td>37184</td>\n",
       "      <td>3276</td>\n",
       "      <td>31</td>\n",
       "      <td>29</td>\n",
       "      <td>9</td>\n",
       "      <td>1.510322e+06</td>\n",
       "      <td>1.323173e+05</td>\n",
       "      <td>...</td>\n",
       "      <td>0</td>\n",
       "      <td>0</td>\n",
       "      <td>0.0</td>\n",
       "      <td>0</td>\n",
       "      <td>0</td>\n",
       "      <td>1</td>\n",
       "      <td>3</td>\n",
       "      <td>2</td>\n",
       "      <td>1</td>\n",
       "      <td>1</td>\n",
       "    </tr>\n",
       "    <tr>\n",
       "      <th>491263</th>\n",
       "      <td>120</td>\n",
       "      <td>2</td>\n",
       "      <td>0.001361</td>\n",
       "      <td>146</td>\n",
       "      <td>178</td>\n",
       "      <td>31</td>\n",
       "      <td>29</td>\n",
       "      <td>2</td>\n",
       "      <td>4.290962e+05</td>\n",
       "      <td>5.231448e+05</td>\n",
       "      <td>...</td>\n",
       "      <td>0</td>\n",
       "      <td>0</td>\n",
       "      <td>0.0</td>\n",
       "      <td>0</td>\n",
       "      <td>0</td>\n",
       "      <td>2</td>\n",
       "      <td>1</td>\n",
       "      <td>1</td>\n",
       "      <td>1</td>\n",
       "      <td>1</td>\n",
       "    </tr>\n",
       "    <tr>\n",
       "      <th>836489</th>\n",
       "      <td>114</td>\n",
       "      <td>5</td>\n",
       "      <td>0.022508</td>\n",
       "      <td>2334</td>\n",
       "      <td>16822</td>\n",
       "      <td>31</td>\n",
       "      <td>29</td>\n",
       "      <td>0</td>\n",
       "      <td>8.068242e+05</td>\n",
       "      <td>5.821930e+06</td>\n",
       "      <td>...</td>\n",
       "      <td>0</td>\n",
       "      <td>0</td>\n",
       "      <td>0.0</td>\n",
       "      <td>0</td>\n",
       "      <td>0</td>\n",
       "      <td>5</td>\n",
       "      <td>3</td>\n",
       "      <td>2</td>\n",
       "      <td>1</td>\n",
       "      <td>1</td>\n",
       "    </tr>\n",
       "    <tr>\n",
       "      <th>2468555</th>\n",
       "      <td>120</td>\n",
       "      <td>6</td>\n",
       "      <td>0.000005</td>\n",
       "      <td>264</td>\n",
       "      <td>0</td>\n",
       "      <td>60</td>\n",
       "      <td>0</td>\n",
       "      <td>2</td>\n",
       "      <td>2.112000e+08</td>\n",
       "      <td>0.000000e+00</td>\n",
       "      <td>...</td>\n",
       "      <td>0</td>\n",
       "      <td>0</td>\n",
       "      <td>0.0</td>\n",
       "      <td>0</td>\n",
       "      <td>0</td>\n",
       "      <td>37</td>\n",
       "      <td>37</td>\n",
       "      <td>37</td>\n",
       "      <td>18</td>\n",
       "      <td>1</td>\n",
       "    </tr>\n",
       "  </tbody>\n",
       "</table>\n",
       "<p>5 rows × 36 columns</p>\n",
       "</div>"
      ],
      "text/plain": [
       "         proto  state       dur  sbytes  dbytes  sttl  dttl  service  \\\n",
       "128037     114      5  0.141949    9608   12194    31    29       11   \n",
       "491755     114      5  0.193172   37184    3276    31    29        9   \n",
       "491263     120      2  0.001361     146     178    31    29        2   \n",
       "836489     114      5  0.022508    2334   16822    31    29        0   \n",
       "2468555    120      6  0.000005     264       0    60     0        2   \n",
       "\n",
       "                sload         dload  ...  is_sm_ips_ports  ct_state_ttl  \\\n",
       "128037   5.365871e+05  6.811461e+05  ...                0             0   \n",
       "491755   1.510322e+06  1.323173e+05  ...                0             0   \n",
       "491263   4.290962e+05  5.231448e+05  ...                0             0   \n",
       "836489   8.068242e+05  5.821930e+06  ...                0             0   \n",
       "2468555  2.112000e+08  0.000000e+00  ...                0             0   \n",
       "\n",
       "         ct_flw_http_mthd  is_ftp_login  ct_ftp_cmd  ct_srv_src  ct_dst_ltm  \\\n",
       "128037                0.0             0           0           1           1   \n",
       "491755                0.0             0           0           1           3   \n",
       "491263                0.0             0           0           2           1   \n",
       "836489                0.0             0           0           5           3   \n",
       "2468555               0.0             0           0          37          37   \n",
       "\n",
       "         ct_src_ltm  ct_dst_sport_ltm  label  \n",
       "128037            2                 1      1  \n",
       "491755            2                 1      1  \n",
       "491263            1                 1      1  \n",
       "836489            2                 1      1  \n",
       "2468555          37                18      1  \n",
       "\n",
       "[5 rows x 36 columns]"
      ]
     },
     "execution_count": 93,
     "metadata": {},
     "output_type": "execute_result"
    }
   ],
   "source": [
    "data_part.head()"
   ]
  },
  {
   "cell_type": "code",
   "execution_count": 94,
   "metadata": {},
   "outputs": [],
   "source": [
    "data_part.reset_index(drop=True, inplace=True)"
   ]
  },
  {
   "cell_type": "code",
   "execution_count": 95,
   "metadata": {},
   "outputs": [
    {
     "data": {
      "text/html": [
       "<div>\n",
       "<style scoped>\n",
       "    .dataframe tbody tr th:only-of-type {\n",
       "        vertical-align: middle;\n",
       "    }\n",
       "\n",
       "    .dataframe tbody tr th {\n",
       "        vertical-align: top;\n",
       "    }\n",
       "\n",
       "    .dataframe thead th {\n",
       "        text-align: right;\n",
       "    }\n",
       "</style>\n",
       "<table border=\"1\" class=\"dataframe\">\n",
       "  <thead>\n",
       "    <tr style=\"text-align: right;\">\n",
       "      <th></th>\n",
       "      <th>proto</th>\n",
       "      <th>state</th>\n",
       "      <th>dur</th>\n",
       "      <th>sbytes</th>\n",
       "      <th>dbytes</th>\n",
       "      <th>sttl</th>\n",
       "      <th>dttl</th>\n",
       "      <th>service</th>\n",
       "      <th>sload</th>\n",
       "      <th>dload</th>\n",
       "      <th>...</th>\n",
       "      <th>is_sm_ips_ports</th>\n",
       "      <th>ct_state_ttl</th>\n",
       "      <th>ct_flw_http_mthd</th>\n",
       "      <th>is_ftp_login</th>\n",
       "      <th>ct_ftp_cmd</th>\n",
       "      <th>ct_srv_src</th>\n",
       "      <th>ct_dst_ltm</th>\n",
       "      <th>ct_src_ltm</th>\n",
       "      <th>ct_dst_sport_ltm</th>\n",
       "      <th>label</th>\n",
       "    </tr>\n",
       "  </thead>\n",
       "  <tbody>\n",
       "    <tr>\n",
       "      <th>0</th>\n",
       "      <td>114</td>\n",
       "      <td>5</td>\n",
       "      <td>0.141949</td>\n",
       "      <td>9608</td>\n",
       "      <td>12194</td>\n",
       "      <td>31</td>\n",
       "      <td>29</td>\n",
       "      <td>11</td>\n",
       "      <td>5.365871e+05</td>\n",
       "      <td>6.811461e+05</td>\n",
       "      <td>...</td>\n",
       "      <td>0</td>\n",
       "      <td>0</td>\n",
       "      <td>0.0</td>\n",
       "      <td>0</td>\n",
       "      <td>0</td>\n",
       "      <td>1</td>\n",
       "      <td>1</td>\n",
       "      <td>2</td>\n",
       "      <td>1</td>\n",
       "      <td>1</td>\n",
       "    </tr>\n",
       "    <tr>\n",
       "      <th>1</th>\n",
       "      <td>114</td>\n",
       "      <td>5</td>\n",
       "      <td>0.193172</td>\n",
       "      <td>37184</td>\n",
       "      <td>3276</td>\n",
       "      <td>31</td>\n",
       "      <td>29</td>\n",
       "      <td>9</td>\n",
       "      <td>1.510322e+06</td>\n",
       "      <td>1.323173e+05</td>\n",
       "      <td>...</td>\n",
       "      <td>0</td>\n",
       "      <td>0</td>\n",
       "      <td>0.0</td>\n",
       "      <td>0</td>\n",
       "      <td>0</td>\n",
       "      <td>1</td>\n",
       "      <td>3</td>\n",
       "      <td>2</td>\n",
       "      <td>1</td>\n",
       "      <td>1</td>\n",
       "    </tr>\n",
       "    <tr>\n",
       "      <th>2</th>\n",
       "      <td>120</td>\n",
       "      <td>2</td>\n",
       "      <td>0.001361</td>\n",
       "      <td>146</td>\n",
       "      <td>178</td>\n",
       "      <td>31</td>\n",
       "      <td>29</td>\n",
       "      <td>2</td>\n",
       "      <td>4.290962e+05</td>\n",
       "      <td>5.231448e+05</td>\n",
       "      <td>...</td>\n",
       "      <td>0</td>\n",
       "      <td>0</td>\n",
       "      <td>0.0</td>\n",
       "      <td>0</td>\n",
       "      <td>0</td>\n",
       "      <td>2</td>\n",
       "      <td>1</td>\n",
       "      <td>1</td>\n",
       "      <td>1</td>\n",
       "      <td>1</td>\n",
       "    </tr>\n",
       "    <tr>\n",
       "      <th>3</th>\n",
       "      <td>114</td>\n",
       "      <td>5</td>\n",
       "      <td>0.022508</td>\n",
       "      <td>2334</td>\n",
       "      <td>16822</td>\n",
       "      <td>31</td>\n",
       "      <td>29</td>\n",
       "      <td>0</td>\n",
       "      <td>8.068242e+05</td>\n",
       "      <td>5.821930e+06</td>\n",
       "      <td>...</td>\n",
       "      <td>0</td>\n",
       "      <td>0</td>\n",
       "      <td>0.0</td>\n",
       "      <td>0</td>\n",
       "      <td>0</td>\n",
       "      <td>5</td>\n",
       "      <td>3</td>\n",
       "      <td>2</td>\n",
       "      <td>1</td>\n",
       "      <td>1</td>\n",
       "    </tr>\n",
       "    <tr>\n",
       "      <th>4</th>\n",
       "      <td>120</td>\n",
       "      <td>6</td>\n",
       "      <td>0.000005</td>\n",
       "      <td>264</td>\n",
       "      <td>0</td>\n",
       "      <td>60</td>\n",
       "      <td>0</td>\n",
       "      <td>2</td>\n",
       "      <td>2.112000e+08</td>\n",
       "      <td>0.000000e+00</td>\n",
       "      <td>...</td>\n",
       "      <td>0</td>\n",
       "      <td>0</td>\n",
       "      <td>0.0</td>\n",
       "      <td>0</td>\n",
       "      <td>0</td>\n",
       "      <td>37</td>\n",
       "      <td>37</td>\n",
       "      <td>37</td>\n",
       "      <td>18</td>\n",
       "      <td>1</td>\n",
       "    </tr>\n",
       "  </tbody>\n",
       "</table>\n",
       "<p>5 rows × 36 columns</p>\n",
       "</div>"
      ],
      "text/plain": [
       "   proto  state       dur  sbytes  dbytes  sttl  dttl  service         sload  \\\n",
       "0    114      5  0.141949    9608   12194    31    29       11  5.365871e+05   \n",
       "1    114      5  0.193172   37184    3276    31    29        9  1.510322e+06   \n",
       "2    120      2  0.001361     146     178    31    29        2  4.290962e+05   \n",
       "3    114      5  0.022508    2334   16822    31    29        0  8.068242e+05   \n",
       "4    120      6  0.000005     264       0    60     0        2  2.112000e+08   \n",
       "\n",
       "          dload  ...  is_sm_ips_ports  ct_state_ttl  ct_flw_http_mthd  \\\n",
       "0  6.811461e+05  ...                0             0               0.0   \n",
       "1  1.323173e+05  ...                0             0               0.0   \n",
       "2  5.231448e+05  ...                0             0               0.0   \n",
       "3  5.821930e+06  ...                0             0               0.0   \n",
       "4  0.000000e+00  ...                0             0               0.0   \n",
       "\n",
       "   is_ftp_login  ct_ftp_cmd  ct_srv_src  ct_dst_ltm  ct_src_ltm  \\\n",
       "0             0           0           1           1           2   \n",
       "1             0           0           1           3           2   \n",
       "2             0           0           2           1           1   \n",
       "3             0           0           5           3           2   \n",
       "4             0           0          37          37          37   \n",
       "\n",
       "   ct_dst_sport_ltm  label  \n",
       "0                 1      1  \n",
       "1                 1      1  \n",
       "2                 1      1  \n",
       "3                 1      1  \n",
       "4                18      1  \n",
       "\n",
       "[5 rows x 36 columns]"
      ]
     },
     "execution_count": 95,
     "metadata": {},
     "output_type": "execute_result"
    }
   ],
   "source": [
    "data_part.head()"
   ]
  },
  {
   "cell_type": "code",
   "execution_count": 96,
   "metadata": {},
   "outputs": [
    {
     "data": {
      "text/plain": [
       "(50801, 36)"
      ]
     },
     "execution_count": 96,
     "metadata": {},
     "output_type": "execute_result"
    }
   ],
   "source": [
    "data_part.shape"
   ]
  },
  {
   "cell_type": "code",
   "execution_count": 97,
   "metadata": {},
   "outputs": [],
   "source": [
    "#creating a csv file\n",
    "data_part.to_csv('./data_part.csv', index=False)"
   ]
  },
  {
   "cell_type": "code",
   "execution_count": 53,
   "metadata": {},
   "outputs": [],
   "source": [
    "data_part = pd.read_csv('./data_part.csv')"
   ]
  },
  {
   "cell_type": "markdown",
   "metadata": {},
   "source": [
    "#### Standardizing"
   ]
  },
  {
   "cell_type": "code",
   "execution_count": 54,
   "metadata": {},
   "outputs": [],
   "source": [
    "Xp = data_part.drop('label', axis='columns')\n",
    "\n",
    "# Standardized\n",
    "scaler = MinMaxScaler()\n",
    "Xp_data = Xp.values\n",
    "Xp_scaled = scaler.fit_transform(Xp_data)\n",
    "Xp = Xp_scaled\n",
    "\n",
    "yp = data_part['label']\n",
    "Xp_train, Xp_test, yp_train, yp_test = train_test_split(Xp, yp, test_size=0.30, random_state=1)"
   ]
  },
  {
   "cell_type": "markdown",
   "metadata": {},
   "source": [
    "#### Anomaly detection: Isolation Forest"
   ]
  },
  {
   "cell_type": "code",
   "execution_count": 66,
   "metadata": {},
   "outputs": [
    {
     "name": "stdout",
     "output_type": "stream",
     "text": [
      "Prediction_AUC Scores:  [0.6466267929393252, 0.6318849762808136, 0.5808587979096064, 0.5871333727492964, 0.5691959568251268, 0.5368766629838408, 0.5244821856966931, 0.5110770287390192, 0.5089071516534294, 0.5063619983657346]\n",
      "Execution time in sec : 19.24613118171692\n"
     ]
    }
   ],
   "source": [
    "startTime = time.time()\n",
    "\n",
    "# Trying different sample size ('max_samples' parameter) for iforest to identify a good one. Plot the relationship for the size from 2**5 to 2**14 with an exponential step 2**i.\n",
    "\n",
    "auc5_scores = []\n",
    "sample_sizes = []\n",
    "for i in range(5, 15):\n",
    "    sample_sizes.append(2**i)\n",
    "    detector_if = IsolationForest(max_samples=2**i,random_state=1)\n",
    "    detector_if.fit(Xp_train)\n",
    "    \n",
    "    yp_test_pred = detector_if.predict(Xp_test)\n",
    "\n",
    "    # Predicting the Yes/No label\n",
    "    auc5 = roc_auc_score(yp_test, yp_test_pred)\n",
    "    \n",
    "    auc5_scores.append(auc5)\n",
    "\n",
    "print('Prediction_AUC Scores: ', auc5_scores)\n",
    "\n",
    "\n",
    "executionTime = (time.time() - startTime)\n",
    "print('Execution time in sec : ' + str(executionTime))"
   ]
  },
  {
   "cell_type": "code",
   "execution_count": 67,
   "metadata": {},
   "outputs": [
    {
     "data": {
      "image/png": "[encoded data removed]",
      "text/plain": [
       "<Figure size 432x288 with 1 Axes>"
      ]
     },
     "metadata": {
      "needs_background": "light"
     },
     "output_type": "display_data"
    }
   ],
   "source": [
    "# Plot the relationship between auc and max_samples\n",
    "plt.plot(range(5,15), auc5_scores, marker='x')\n",
    "plt.xlabel('max_samples')\n",
    "plt.ylabel('AUC')\n",
    "plt.show()"
   ]
  },
  {
   "cell_type": "code",
   "execution_count": 68,
   "metadata": {},
   "outputs": [
    {
     "name": "stdout",
     "output_type": "stream",
     "text": [
      "Evaluation_AUC Score:  0.8303317525453907\n",
      "Execution time in sec : 2.9668784141540527\n"
     ]
    }
   ],
   "source": [
    "startTime = time.time()\n",
    "\n",
    "ilfp = IsolationForest(max_samples= 32 ,random_state=1)\n",
    "ilfp.fit(Xp_train)\n",
    "\n",
    "yp_test_pred = ilfp.predict(Xp_test)\n",
    "\n",
    "\n",
    "# Evaluating using AUC (Area Under Curve)\n",
    "yp_score = ilfp.decision_function(Xp_train)\n",
    "print('Evaluation_AUC Score: ', roc_auc_score(yp_train, yp_score))\n",
    "\n",
    "executionTime = (time.time() - startTime)\n",
    "print('Execution time in sec : ' + str(executionTime))"
   ]
  },
  {
   "cell_type": "markdown",
   "metadata": {},
   "source": [
    "#### Anomaly detection: LocalOutlierFactor"
   ]
  },
  {
   "cell_type": "code",
   "execution_count": 56,
   "metadata": {},
   "outputs": [
    {
     "name": "stdout",
     "output_type": "stream",
     "text": [
      "Evaluation_AUC Scores:  [0.5460046045140883, 0.5482342704718497, 0.5506408877782697, 0.5551442812705494, 0.5601688979401194, 0.5673901528922259, 0.5719058740374313, 0.5717468342714194]\n",
      "Execution time in sec : 229.4422287940979\n"
     ]
    }
   ],
   "source": [
    "startTime = time.time()\n",
    "#Tuning\n",
    "#Try different values of k ('n_neighbors' parameter) for LOF to identify a good one. Plot the relationship for k changing from 20 to 60 with 5 as the step.\n",
    "\n",
    "auc2_scores = []\n",
    "for i in range(20, 60, 5):\n",
    "    detector_lof = LocalOutlierFactor(n_neighbors=i, novelty=True)\n",
    "    detector_lof.fit(Xp_train)\n",
    "    y2_score = detector_lof.decision_function(Xp_train)\n",
    "    auc2 = roc_auc_score(yp_train, y2_score)\n",
    "    auc2_scores.append(auc2)\n",
    "\n",
    "print('Evaluation_AUC Scores: ', auc2_scores)\n",
    "\n",
    "executionTime = (time.time() - startTime)\n",
    "print('Execution time in sec : ' + str(executionTime))\n"
   ]
  },
  {
   "cell_type": "code",
   "execution_count": 57,
   "metadata": {},
   "outputs": [
    {
     "name": "stdout",
     "output_type": "stream",
     "text": [
      "6\n"
     ]
    }
   ],
   "source": [
    "print(auc2_scores.index(max(auc2_scores)))"
   ]
  },
  {
   "cell_type": "code",
   "execution_count": 58,
   "metadata": {},
   "outputs": [
    {
     "data": {
      "image/png": "[encoded data removed]",
      "text/plain": [
       "<Figure size 432x288 with 1 Axes>"
      ]
     },
     "metadata": {
      "needs_background": "light"
     },
     "output_type": "display_data"
    }
   ],
   "source": [
    "# Plot the relationship between auc and k\n",
    "plt.plot(range(20, 60, 5), auc2_scores, marker='x')\n",
    "plt.xlabel('n_neighbour')\n",
    "plt.ylabel('AUC')\n",
    "plt.show()"
   ]
  },
  {
   "cell_type": "markdown",
   "metadata": {},
   "source": [
    "The above code returns the highest AUC_score at 6th index value, where the value of n_neighbours is 50"
   ]
  },
  {
   "cell_type": "code",
   "execution_count": 104,
   "metadata": {},
   "outputs": [
    {
     "name": "stdout",
     "output_type": "stream",
     "text": [
      "Evaluation_AUC Score:  0.5719058740374313\n",
      "Execution time for in secs : 36.304051637649536\n"
     ]
    }
   ],
   "source": [
    "startTime = time.time()\n",
    "\n",
    "# Create the LOF model. Note here we need to set 'novelty' parameter as 'True' to get LOF scores\n",
    "lofp = LocalOutlierFactor(n_neighbors=50, novelty=True)\n",
    "lofp.fit(Xp_train)\n",
    "\n",
    "# Obtain anomaly score (Note that this is not the yes/no prediction as we don't know the threshold)\n",
    "ypp_score = lofp.decision_function(Xp_train)\n",
    "\n",
    "yp_pred_test = lofp.predict(Xp_test)\n",
    "\n",
    "# Evaluate using AUC (Area Under Curve)\n",
    "print('Evaluation_AUC Score: ', roc_auc_score(yp_train, ypp_score))\n",
    "\n",
    "\n",
    "executionTime = (time.time() - startTime)\n",
    "print('Execution time for in secs : ' + str(executionTime))\n"
   ]
  },
  {
   "cell_type": "markdown",
   "metadata": {},
   "source": [
    "#### Analysis of both Anomaly detection models based on AUC_Score and Execution time:"
   ]
  },
  {
   "cell_type": "markdown",
   "metadata": {},
   "source": [
    "While using 20% of the entire dataset, we could perform the detection on two Anomaly Detector Model: IsolationForest and LocalOutlierFactor."
   ]
  },
  {
   "cell_type": "markdown",
   "metadata": {},
   "source": [
    "For the IsolationForest Model, we were able to execute the code in 2.8 secs with an AUC_score of 82.6%. Whereas, the  LocalOutlierFactor model took 12x more time to execute and the AUC_score was around 57%."
   ]
  },
  {
   "cell_type": "markdown",
   "metadata": {},
   "source": [
    "From the performance metrics, it can be decided that IsolationForest Model is a better model for the Intrusion Detection data we are working on."
   ]
  }
 ],
 "metadata": {
  "kernelspec": {
   "display_name": "Python 3",
   "language": "python",
   "name": "python3"
  },
  "language_info": {
   "codemirror_mode": {
    "name": "ipython",
    "version": 3
   },
   "file_extension": ".py",
   "mimetype": "text/x-python",
   "name": "python",
   "nbconvert_exporter": "python",
   "pygments_lexer": "ipython3",
   "version": "3.8.3"
  }
 },
 "nbformat": 4,
 "nbformat_minor": 4
}
